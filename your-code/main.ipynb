{
 "cells": [
  {
   "cell_type": "markdown",
   "metadata": {
    "toc": true
   },
   "source": [
    "<h1>Table of Contents<span class=\"tocSkip\"></span></h1>\n",
    "<div class=\"toc\"><ul class=\"toc-item\"><li><span><a href=\"#Before-your-start:\" data-toc-modified-id=\"Before-your-start:-1\"><span class=\"toc-item-num\">1&nbsp;&nbsp;</span>Before your start:</a></span></li><li><span><a href=\"#Challenge-1---Explore-The-Dataset\" data-toc-modified-id=\"Challenge-1---Explore-The-Dataset-2\"><span class=\"toc-item-num\">2&nbsp;&nbsp;</span>Challenge 1 - Explore The Dataset</a></span><ul class=\"toc-item\"><li><ul class=\"toc-item\"><li><ul class=\"toc-item\"><li><span><a href=\"#Explore-the-data-from-an-bird's-eye-view.\" data-toc-modified-id=\"Explore-the-data-from-an-bird's-eye-view.-2.0.0.1\"><span class=\"toc-item-num\">2.0.0.1&nbsp;&nbsp;</span>Explore the data from an bird's-eye view.</a></span></li><li><span><a href=\"#Next,-evaluate-if-the-columns-in-this-dataset-are-strongly-correlated.\" data-toc-modified-id=\"Next,-evaluate-if-the-columns-in-this-dataset-are-strongly-correlated.-2.0.0.2\"><span class=\"toc-item-num\">2.0.0.2&nbsp;&nbsp;</span>Next, evaluate if the columns in this dataset are strongly correlated.</a></span></li></ul></li></ul></li></ul></li><li><span><a href=\"#Challenge-2---Remove-Column-Collinearity.\" data-toc-modified-id=\"Challenge-2---Remove-Column-Collinearity.-3\"><span class=\"toc-item-num\">3&nbsp;&nbsp;</span>Challenge 2 - Remove Column Collinearity.</a></span></li><li><span><a href=\"#Challenge-3---Handle-Missing-Values\" data-toc-modified-id=\"Challenge-3---Handle-Missing-Values-4\"><span class=\"toc-item-num\">4&nbsp;&nbsp;</span>Challenge 3 - Handle Missing Values</a></span><ul class=\"toc-item\"><li><ul class=\"toc-item\"><li><ul class=\"toc-item\"><li><span><a href=\"#In-the-cells-below,-handle-the-missing-values-from-the-dataset.-Remember-to-comment-the-rationale-of-your-decisions.\" data-toc-modified-id=\"In-the-cells-below,-handle-the-missing-values-from-the-dataset.-Remember-to-comment-the-rationale-of-your-decisions.-4.0.0.1\"><span class=\"toc-item-num\">4.0.0.1&nbsp;&nbsp;</span>In the cells below, handle the missing values from the dataset. Remember to comment the rationale of your decisions.</a></span></li><li><span><a href=\"#Again,-examine-the-number-of-missing-values-in-each-column.\" data-toc-modified-id=\"Again,-examine-the-number-of-missing-values-in-each-column.-4.0.0.2\"><span class=\"toc-item-num\">4.0.0.2&nbsp;&nbsp;</span>Again, examine the number of missing values in each column.</a></span></li></ul></li></ul></li></ul></li><li><span><a href=\"#Challenge-4---Handle-WHOIS_*-Categorical-Data\" data-toc-modified-id=\"Challenge-4---Handle-WHOIS_*-Categorical-Data-5\"><span class=\"toc-item-num\">5&nbsp;&nbsp;</span>Challenge 4 - Handle <code>WHOIS_*</code> Categorical Data</a></span><ul class=\"toc-item\"><li><ul class=\"toc-item\"><li><ul class=\"toc-item\"><li><span><a href=\"#In-the-cells-below,-fix-the-country-values-as-intructed-above.\" data-toc-modified-id=\"In-the-cells-below,-fix-the-country-values-as-intructed-above.-5.0.0.1\"><span class=\"toc-item-num\">5.0.0.1&nbsp;&nbsp;</span>In the cells below, fix the country values as intructed above.</a></span></li><li><span><a href=\"#If-a-limited-number-of-values-account-for-the-majority-of-data,-we-can-retain-these-top-values-and-re-label-all-other-rare-values.\" data-toc-modified-id=\"If-a-limited-number-of-values-account-for-the-majority-of-data,-we-can-retain-these-top-values-and-re-label-all-other-rare-values.-5.0.0.2\"><span class=\"toc-item-num\">5.0.0.2&nbsp;&nbsp;</span>If a limited number of values account for the majority of data, we can retain these top values and re-label all other rare values.</a></span></li><li><span><a href=\"#After-verifying,-now-let's-keep-the-top-10-values-of-the-column-and-re-label-other-columns-with-OTHER.\" data-toc-modified-id=\"After-verifying,-now-let's-keep-the-top-10-values-of-the-column-and-re-label-other-columns-with-OTHER.-5.0.0.3\"><span class=\"toc-item-num\">5.0.0.3&nbsp;&nbsp;</span>After verifying, now let's keep the top 10 values of the column and re-label other columns with <code>OTHER</code>.</a></span></li><li><span><a href=\"#In-the-next-cell,-drop-['WHOIS_STATEPRO',-'WHOIS_REGDATE',-'WHOIS_UPDATED_DATE'].\" data-toc-modified-id=\"In-the-next-cell,-drop-['WHOIS_STATEPRO',-'WHOIS_REGDATE',-'WHOIS_UPDATED_DATE'].-5.0.0.4\"><span class=\"toc-item-num\">5.0.0.4&nbsp;&nbsp;</span>In the next cell, drop <code>['WHOIS_STATEPRO', 'WHOIS_REGDATE', 'WHOIS_UPDATED_DATE']</code>.</a></span></li></ul></li></ul></li></ul></li><li><span><a href=\"#Challenge-5---Handle-Remaining-Categorical-Data-&amp;-Convert-to-Ordinal\" data-toc-modified-id=\"Challenge-5---Handle-Remaining-Categorical-Data-&amp;-Convert-to-Ordinal-6\"><span class=\"toc-item-num\">6&nbsp;&nbsp;</span>Challenge 5 - Handle Remaining Categorical Data &amp; Convert to Ordinal</a></span><ul class=\"toc-item\"><li><ul class=\"toc-item\"><li><ul class=\"toc-item\"><li><span><a href=\"#URL-is-easy.-We'll-simply-drop-it-because-it-has-too-many-unique-values-that-there's-no-way-for-us-to-consolidate.\" data-toc-modified-id=\"URL-is-easy.-We'll-simply-drop-it-because-it-has-too-many-unique-values-that-there's-no-way-for-us-to-consolidate.-6.0.0.1\"><span class=\"toc-item-num\">6.0.0.1&nbsp;&nbsp;</span><code>URL</code> is easy. We'll simply drop it because it has too many unique values that there's no way for us to consolidate.</a></span></li><li><span><a href=\"#Print-the-unique-value-counts-of-CHARSET.-You-see-there-are-only-a-few-unique-values.-So-we-can-keep-it-as-it-is.\" data-toc-modified-id=\"Print-the-unique-value-counts-of-CHARSET.-You-see-there-are-only-a-few-unique-values.-So-we-can-keep-it-as-it-is.-6.0.0.2\"><span class=\"toc-item-num\">6.0.0.2&nbsp;&nbsp;</span>Print the unique value counts of <code>CHARSET</code>. You see there are only a few unique values. So we can keep it as it is.</a></span></li><li><span><a href=\"#Before-you-think-of-your-own-solution,-don't-read-the-instructions-that-come-next.\" data-toc-modified-id=\"Before-you-think-of-your-own-solution,-don't-read-the-instructions-that-come-next.-6.0.0.3\"><span class=\"toc-item-num\">6.0.0.3&nbsp;&nbsp;</span>Before you think of your own solution, don't read the instructions that come next.</a></span></li></ul></li></ul></li></ul></li><li><span><a href=\"#Challenge-6---Modeling,-Prediction,-and-Evaluation\" data-toc-modified-id=\"Challenge-6---Modeling,-Prediction,-and-Evaluation-7\"><span class=\"toc-item-num\">7&nbsp;&nbsp;</span>Challenge 6 - Modeling, Prediction, and Evaluation</a></span><ul class=\"toc-item\"><li><ul class=\"toc-item\"><li><ul class=\"toc-item\"><li><span><a href=\"#In-this-lab,-we-will-try-two-different-models-and-compare-our-results.\" data-toc-modified-id=\"In-this-lab,-we-will-try-two-different-models-and-compare-our-results.-7.0.0.1\"><span class=\"toc-item-num\">7.0.0.1&nbsp;&nbsp;</span>In this lab, we will try two different models and compare our results.</a></span></li><li><span><a href=\"#Our-second-algorithm-is-is-DecisionTreeClassifier\" data-toc-modified-id=\"Our-second-algorithm-is-is-DecisionTreeClassifier-7.0.0.2\"><span class=\"toc-item-num\">7.0.0.2&nbsp;&nbsp;</span>Our second algorithm is is DecisionTreeClassifier</a></span></li><li><span><a href=\"#We'll-create-another-DecisionTreeClassifier-model-with-max_depth=5.\" data-toc-modified-id=\"We'll-create-another-DecisionTreeClassifier-model-with-max_depth=5.-7.0.0.3\"><span class=\"toc-item-num\">7.0.0.3&nbsp;&nbsp;</span>We'll create another DecisionTreeClassifier model with max_depth=5.</a></span></li></ul></li></ul></li></ul></li><li><span><a href=\"#Bonus-Challenge---Feature-Scaling\" data-toc-modified-id=\"Bonus-Challenge---Feature-Scaling-8\"><span class=\"toc-item-num\">8&nbsp;&nbsp;</span>Bonus Challenge - Feature Scaling</a></span></li></ul></div>"
   ]
  },
  {
   "cell_type": "markdown",
   "metadata": {},
   "source": [
    "# Before your start:\n",
    "- Read the README.md file\n",
    "- Comment as much as you can and use the resources in the README.md file\n",
    "- Happy learning!"
   ]
  },
  {
   "cell_type": "code",
   "execution_count": 1,
   "metadata": {},
   "outputs": [],
   "source": [
    "# Import your libraries:\n",
    "\n",
    "%matplotlib inline\n",
    "\n",
    "import numpy as np\n",
    "import pandas as pd"
   ]
  },
  {
   "cell_type": "markdown",
   "metadata": {},
   "source": [
    "In this lab, we will explore a dataset that describes websites with different features and labels them either benign or malicious . We will use supervised learning algorithms to figure out what feature patterns malicious websites are likely to have and use our model to predict malicious websites.\n",
    "\n",
    "Your features will be:\n",
    "\n",
    "+ URL: it is the anonymous identification of the URL analyzed in the study\n",
    "+ URL_LENGTH: it is the number of characters in the URL\n",
    "+ NUMBER_SPECIAL_CHARACTERS: it is number of special characters identified in the URL, such as, “/”, “%”, “#”, “&”, “. “, “=”\n",
    "+ CHARSET: it is a categorical value and its meaning is the character encoding standard (also called character set).\n",
    "+ SERVER: it is a categorical value and its meaning is the operative system of the server got from the packet response.\n",
    "+ CONTENT_LENGTH: it represents the content size of the HTTP header.\n",
    "+ WHOIS_COUNTRY: it is a categorical variable, its values are the countries we got from the server response (specifically, our script used the API of Whois).\n",
    "+ WHOIS_STATEPRO: it is a categorical variable, its values are the states we got from the server response (specifically, our script used the API of Whois).\n",
    "+ WHOIS_REGDATE: Whois provides the server registration date, so, this variable has date values with format DD/MM/YYY HH:MM\n",
    "+ WHOIS_UPDATED_DATE: Through the Whois we got the last update date from the server analyzed\n",
    "+ TCP_CONVERSATION_EXCHANGE: This variable is the number of TCP packets exchanged between the server and our honeypot client\n",
    "+ DIST_REMOTE_TCP_PORT: it is the number of the ports detected and different to TCP\n",
    "+ REMOTE_IPS: this variable has the total number of IPs connected to the honeypot\n",
    "+ APP_BYTES: this is the number of bytes transfered\n",
    "+ SOURCE_APP_PACKETS: packets sent from the honeypot to the server\n",
    "+ REMOTE_APP_PACKETS: packets received from the server\n",
    "+ APP_PACKETS: this is the total number of IP packets generated during the communication between the honeypot and the server\n",
    "+ DNS_QUERY_TIMES: this is the number of DNS packets generated during the communication between the honeypot and the server\n",
    "+ TYPE: this is a categorical variable, its values represent the type of web page analyzed, specifically, 1 is for malicious websites and 0 is for benign websites\n",
    "\n",
    "# Challenge 1 - Explore The Dataset\n",
    "\n",
    "Let's start by exploring the dataset. First load the data file:\n",
    "\n",
    "\n",
    "*Source: [kaggle](https://www.kaggle.com/viratkothari/malicious-and-benign-websites-classification)*"
   ]
  },
  {
   "cell_type": "code",
   "execution_count": 2,
   "metadata": {},
   "outputs": [],
   "source": [
    "websites = pd.read_csv('../website.csv')"
   ]
  },
  {
   "cell_type": "markdown",
   "metadata": {},
   "source": [
    "#### Explore the data from an bird's-eye view.\n",
    "\n",
    "You should already been very familiar with the procedures now so we won't provide the instructions step by step. Reflect on what you did in the previous labs and explore the dataset.\n",
    "\n",
    "Things you'll be looking for:\n",
    "\n",
    "* What the dataset looks like?\n",
    "* What are the data types?\n",
    "* Which columns contain the features of the websites?\n",
    "* Which column contains the feature we will predict? What is the code standing for benign vs malicious websites?\n",
    "* Do we need to transform any of the columns from categorical to ordinal values? If so what are these columns?\n",
    "\n",
    "Feel free to add additional cells for your explorations. Make sure to comment what you find out."
   ]
  },
  {
   "cell_type": "code",
   "execution_count": 3,
   "metadata": {},
   "outputs": [
    {
     "data": {
      "text/html": [
       "<div>\n",
       "<style scoped>\n",
       "    .dataframe tbody tr th:only-of-type {\n",
       "        vertical-align: middle;\n",
       "    }\n",
       "\n",
       "    .dataframe tbody tr th {\n",
       "        vertical-align: top;\n",
       "    }\n",
       "\n",
       "    .dataframe thead th {\n",
       "        text-align: right;\n",
       "    }\n",
       "</style>\n",
       "<table border=\"1\" class=\"dataframe\">\n",
       "  <thead>\n",
       "    <tr style=\"text-align: right;\">\n",
       "      <th></th>\n",
       "      <th>URL</th>\n",
       "      <th>URL_LENGTH</th>\n",
       "      <th>NUMBER_SPECIAL_CHARACTERS</th>\n",
       "      <th>CHARSET</th>\n",
       "      <th>SERVER</th>\n",
       "      <th>CONTENT_LENGTH</th>\n",
       "      <th>WHOIS_COUNTRY</th>\n",
       "      <th>WHOIS_STATEPRO</th>\n",
       "      <th>WHOIS_REGDATE</th>\n",
       "      <th>WHOIS_UPDATED_DATE</th>\n",
       "      <th>...</th>\n",
       "      <th>DIST_REMOTE_TCP_PORT</th>\n",
       "      <th>REMOTE_IPS</th>\n",
       "      <th>APP_BYTES</th>\n",
       "      <th>SOURCE_APP_PACKETS</th>\n",
       "      <th>REMOTE_APP_PACKETS</th>\n",
       "      <th>SOURCE_APP_BYTES</th>\n",
       "      <th>REMOTE_APP_BYTES</th>\n",
       "      <th>APP_PACKETS</th>\n",
       "      <th>DNS_QUERY_TIMES</th>\n",
       "      <th>Type</th>\n",
       "    </tr>\n",
       "  </thead>\n",
       "  <tbody>\n",
       "    <tr>\n",
       "      <th>0</th>\n",
       "      <td>M0_109</td>\n",
       "      <td>16</td>\n",
       "      <td>7</td>\n",
       "      <td>iso-8859-1</td>\n",
       "      <td>nginx</td>\n",
       "      <td>263.0</td>\n",
       "      <td>None</td>\n",
       "      <td>None</td>\n",
       "      <td>10/10/2015 18:21</td>\n",
       "      <td>None</td>\n",
       "      <td>...</td>\n",
       "      <td>0</td>\n",
       "      <td>2</td>\n",
       "      <td>700</td>\n",
       "      <td>9</td>\n",
       "      <td>10</td>\n",
       "      <td>1153</td>\n",
       "      <td>832</td>\n",
       "      <td>9</td>\n",
       "      <td>2.0</td>\n",
       "      <td>1</td>\n",
       "    </tr>\n",
       "    <tr>\n",
       "      <th>1</th>\n",
       "      <td>B0_2314</td>\n",
       "      <td>16</td>\n",
       "      <td>6</td>\n",
       "      <td>UTF-8</td>\n",
       "      <td>Apache/2.4.10</td>\n",
       "      <td>15087.0</td>\n",
       "      <td>None</td>\n",
       "      <td>None</td>\n",
       "      <td>None</td>\n",
       "      <td>None</td>\n",
       "      <td>...</td>\n",
       "      <td>7</td>\n",
       "      <td>4</td>\n",
       "      <td>1230</td>\n",
       "      <td>17</td>\n",
       "      <td>19</td>\n",
       "      <td>1265</td>\n",
       "      <td>1230</td>\n",
       "      <td>17</td>\n",
       "      <td>0.0</td>\n",
       "      <td>0</td>\n",
       "    </tr>\n",
       "    <tr>\n",
       "      <th>2</th>\n",
       "      <td>B0_911</td>\n",
       "      <td>16</td>\n",
       "      <td>6</td>\n",
       "      <td>us-ascii</td>\n",
       "      <td>Microsoft-HTTPAPI/2.0</td>\n",
       "      <td>324.0</td>\n",
       "      <td>None</td>\n",
       "      <td>None</td>\n",
       "      <td>None</td>\n",
       "      <td>None</td>\n",
       "      <td>...</td>\n",
       "      <td>0</td>\n",
       "      <td>0</td>\n",
       "      <td>0</td>\n",
       "      <td>0</td>\n",
       "      <td>0</td>\n",
       "      <td>0</td>\n",
       "      <td>0</td>\n",
       "      <td>0</td>\n",
       "      <td>0.0</td>\n",
       "      <td>0</td>\n",
       "    </tr>\n",
       "    <tr>\n",
       "      <th>3</th>\n",
       "      <td>B0_113</td>\n",
       "      <td>17</td>\n",
       "      <td>6</td>\n",
       "      <td>ISO-8859-1</td>\n",
       "      <td>nginx</td>\n",
       "      <td>162.0</td>\n",
       "      <td>US</td>\n",
       "      <td>AK</td>\n",
       "      <td>7/10/1997 4:00</td>\n",
       "      <td>12/09/2013 0:45</td>\n",
       "      <td>...</td>\n",
       "      <td>22</td>\n",
       "      <td>3</td>\n",
       "      <td>3812</td>\n",
       "      <td>39</td>\n",
       "      <td>37</td>\n",
       "      <td>18784</td>\n",
       "      <td>4380</td>\n",
       "      <td>39</td>\n",
       "      <td>8.0</td>\n",
       "      <td>0</td>\n",
       "    </tr>\n",
       "    <tr>\n",
       "      <th>4</th>\n",
       "      <td>B0_403</td>\n",
       "      <td>17</td>\n",
       "      <td>6</td>\n",
       "      <td>UTF-8</td>\n",
       "      <td>None</td>\n",
       "      <td>124140.0</td>\n",
       "      <td>US</td>\n",
       "      <td>TX</td>\n",
       "      <td>12/05/1996 0:00</td>\n",
       "      <td>11/04/2017 0:00</td>\n",
       "      <td>...</td>\n",
       "      <td>2</td>\n",
       "      <td>5</td>\n",
       "      <td>4278</td>\n",
       "      <td>61</td>\n",
       "      <td>62</td>\n",
       "      <td>129889</td>\n",
       "      <td>4586</td>\n",
       "      <td>61</td>\n",
       "      <td>4.0</td>\n",
       "      <td>0</td>\n",
       "    </tr>\n",
       "  </tbody>\n",
       "</table>\n",
       "<p>5 rows × 21 columns</p>\n",
       "</div>"
      ],
      "text/plain": [
       "       URL  URL_LENGTH  NUMBER_SPECIAL_CHARACTERS     CHARSET  \\\n",
       "0   M0_109          16                          7  iso-8859-1   \n",
       "1  B0_2314          16                          6       UTF-8   \n",
       "2   B0_911          16                          6    us-ascii   \n",
       "3   B0_113          17                          6  ISO-8859-1   \n",
       "4   B0_403          17                          6       UTF-8   \n",
       "\n",
       "                  SERVER  CONTENT_LENGTH WHOIS_COUNTRY WHOIS_STATEPRO  \\\n",
       "0                  nginx           263.0          None           None   \n",
       "1          Apache/2.4.10         15087.0          None           None   \n",
       "2  Microsoft-HTTPAPI/2.0           324.0          None           None   \n",
       "3                  nginx           162.0            US             AK   \n",
       "4                   None        124140.0            US             TX   \n",
       "\n",
       "      WHOIS_REGDATE WHOIS_UPDATED_DATE  ...  DIST_REMOTE_TCP_PORT  REMOTE_IPS  \\\n",
       "0  10/10/2015 18:21               None  ...                     0           2   \n",
       "1              None               None  ...                     7           4   \n",
       "2              None               None  ...                     0           0   \n",
       "3    7/10/1997 4:00    12/09/2013 0:45  ...                    22           3   \n",
       "4   12/05/1996 0:00    11/04/2017 0:00  ...                     2           5   \n",
       "\n",
       "   APP_BYTES  SOURCE_APP_PACKETS  REMOTE_APP_PACKETS  SOURCE_APP_BYTES  \\\n",
       "0        700                   9                  10              1153   \n",
       "1       1230                  17                  19              1265   \n",
       "2          0                   0                   0                 0   \n",
       "3       3812                  39                  37             18784   \n",
       "4       4278                  61                  62            129889   \n",
       "\n",
       "   REMOTE_APP_BYTES  APP_PACKETS  DNS_QUERY_TIMES  Type  \n",
       "0               832            9              2.0     1  \n",
       "1              1230           17              0.0     0  \n",
       "2                 0            0              0.0     0  \n",
       "3              4380           39              8.0     0  \n",
       "4              4586           61              4.0     0  \n",
       "\n",
       "[5 rows x 21 columns]"
      ]
     },
     "execution_count": 3,
     "metadata": {},
     "output_type": "execute_result"
    }
   ],
   "source": [
    "# Your code here\n",
    "websites.head()"
   ]
  },
  {
   "cell_type": "code",
   "execution_count": 4,
   "metadata": {},
   "outputs": [],
   "source": [
    "websites.dropna(inplace =True)"
   ]
  },
  {
   "cell_type": "code",
   "execution_count": 5,
   "metadata": {},
   "outputs": [
    {
     "data": {
      "text/plain": [
       "Index(['URL', 'URL_LENGTH', 'NUMBER_SPECIAL_CHARACTERS', 'CHARSET', 'SERVER',\n",
       "       'CONTENT_LENGTH', 'WHOIS_COUNTRY', 'WHOIS_STATEPRO', 'WHOIS_REGDATE',\n",
       "       'WHOIS_UPDATED_DATE', 'TCP_CONVERSATION_EXCHANGE',\n",
       "       'DIST_REMOTE_TCP_PORT', 'REMOTE_IPS', 'APP_BYTES', 'SOURCE_APP_PACKETS',\n",
       "       'REMOTE_APP_PACKETS', 'SOURCE_APP_BYTES', 'REMOTE_APP_BYTES',\n",
       "       'APP_PACKETS', 'DNS_QUERY_TIMES', 'Type'],\n",
       "      dtype='object')"
      ]
     },
     "execution_count": 5,
     "metadata": {},
     "output_type": "execute_result"
    }
   ],
   "source": [
    "websites.columns"
   ]
  },
  {
   "cell_type": "code",
   "execution_count": 6,
   "metadata": {},
   "outputs": [
    {
     "name": "stdout",
     "output_type": "stream",
     "text": [
      "<class 'pandas.core.frame.DataFrame'>\n",
      "Int64Index: 967 entries, 0 to 1780\n",
      "Data columns (total 21 columns):\n",
      " #   Column                     Non-Null Count  Dtype  \n",
      "---  ------                     --------------  -----  \n",
      " 0   URL                        967 non-null    object \n",
      " 1   URL_LENGTH                 967 non-null    int64  \n",
      " 2   NUMBER_SPECIAL_CHARACTERS  967 non-null    int64  \n",
      " 3   CHARSET                    967 non-null    object \n",
      " 4   SERVER                     967 non-null    object \n",
      " 5   CONTENT_LENGTH             967 non-null    float64\n",
      " 6   WHOIS_COUNTRY              967 non-null    object \n",
      " 7   WHOIS_STATEPRO             967 non-null    object \n",
      " 8   WHOIS_REGDATE              967 non-null    object \n",
      " 9   WHOIS_UPDATED_DATE         967 non-null    object \n",
      " 10  TCP_CONVERSATION_EXCHANGE  967 non-null    int64  \n",
      " 11  DIST_REMOTE_TCP_PORT       967 non-null    int64  \n",
      " 12  REMOTE_IPS                 967 non-null    int64  \n",
      " 13  APP_BYTES                  967 non-null    int64  \n",
      " 14  SOURCE_APP_PACKETS         967 non-null    int64  \n",
      " 15  REMOTE_APP_PACKETS         967 non-null    int64  \n",
      " 16  SOURCE_APP_BYTES           967 non-null    int64  \n",
      " 17  REMOTE_APP_BYTES           967 non-null    int64  \n",
      " 18  APP_PACKETS                967 non-null    int64  \n",
      " 19  DNS_QUERY_TIMES            967 non-null    float64\n",
      " 20  Type                       967 non-null    int64  \n",
      "dtypes: float64(2), int64(12), object(7)\n",
      "memory usage: 166.2+ KB\n"
     ]
    }
   ],
   "source": [
    "# Your comment here\n",
    "websites.info ('deep')"
   ]
  },
  {
   "cell_type": "code",
   "execution_count": 7,
   "metadata": {},
   "outputs": [],
   "source": [
    "#* Which columns contain the features of the websites?\n",
    "\n",
    "#the 6 first"
   ]
  },
  {
   "cell_type": "code",
   "execution_count": 8,
   "metadata": {},
   "outputs": [],
   "source": [
    "# Which column contains the feature we will predict? What is the code standing for benign vs malicious websites?\n",
    "#The last one  - TYPE _ since we want to predict wether there will be bening or malicious based on the other columns data.\n",
    "#  0 para bening and 1 for malicious\n"
   ]
  },
  {
   "cell_type": "code",
   "execution_count": 9,
   "metadata": {},
   "outputs": [],
   "source": [
    "# Do we need to transform any of the columns from categorical to ordinal values? If so what are these columns?\n",
    "# there are some columns that might not be relevant like name of the url  and charset and whois country or state i dont think they will be relevant either\n",
    "#since finding malicious websites there might come from anywhere ofc the probabilty of a country with higher malicious websites is very possible but still, turning them into \n",
    "# numbers might not be necessary yet."
   ]
  },
  {
   "cell_type": "markdown",
   "metadata": {},
   "source": [
    "#### Next, evaluate if the columns in this dataset are strongly correlated.\n",
    "\n",
    "In the Mushroom supervised learning lab we did recently, we mentioned we are concerned if our dataset has strongly correlated columns because if it is the case we need to choose certain ML algorithms instead of others. We need to evaluate this for our dataset now.\n",
    "\n",
    "Luckily, most of the columns in this dataset are ordinal which makes things a lot easier for us. In the next cells below, evaluate the level of collinearity of the data.\n",
    "\n",
    "We provide some general directions for you to consult in order to complete this step:\n",
    "\n",
    "1. You will create a correlation matrix using the numeric columns in the dataset.\n",
    "\n",
    "1. Create a heatmap using `seaborn` to visualize which columns have high collinearity.\n",
    "\n",
    "1. Comment on which columns you might need to remove due to high collinearity."
   ]
  },
  {
   "cell_type": "code",
   "execution_count": 10,
   "metadata": {},
   "outputs": [],
   "source": [
    "import pylab as plt                                # plotting library\n",
    "import seaborn as sns                              # plotting library\n",
    "sns.set(style='white')                             # seaborn style\n",
    "from sklearn.linear_model import LogisticRegression            # logistic regression model   \n",
    "\n",
    "from sklearn.preprocessing import StandardScaler               # standarized\n",
    "from sklearn.preprocessing import LabelEncoder               \n",
    "\n",
    "from sklearn.model_selection import train_test_split as tts\n",
    "\n",
    "from matplotlib.backends.backend_tkagg import FigureCanvasTkAgg\n",
    "import matplotlib.pyplot as plt\n",
    "from numpy import cumsum\n",
    "import matplotlib"
   ]
  },
  {
   "cell_type": "code",
   "execution_count": 11,
   "metadata": {},
   "outputs": [
    {
     "data": {
      "text/html": [
       "<div>\n",
       "<style scoped>\n",
       "    .dataframe tbody tr th:only-of-type {\n",
       "        vertical-align: middle;\n",
       "    }\n",
       "\n",
       "    .dataframe tbody tr th {\n",
       "        vertical-align: top;\n",
       "    }\n",
       "\n",
       "    .dataframe thead th {\n",
       "        text-align: right;\n",
       "    }\n",
       "</style>\n",
       "<table border=\"1\" class=\"dataframe\">\n",
       "  <thead>\n",
       "    <tr style=\"text-align: right;\">\n",
       "      <th></th>\n",
       "      <th>URL_LENGTH</th>\n",
       "      <th>NUMBER_SPECIAL_CHARACTERS</th>\n",
       "      <th>CONTENT_LENGTH</th>\n",
       "      <th>TCP_CONVERSATION_EXCHANGE</th>\n",
       "      <th>DIST_REMOTE_TCP_PORT</th>\n",
       "      <th>REMOTE_IPS</th>\n",
       "      <th>APP_BYTES</th>\n",
       "      <th>SOURCE_APP_PACKETS</th>\n",
       "      <th>REMOTE_APP_PACKETS</th>\n",
       "      <th>SOURCE_APP_BYTES</th>\n",
       "      <th>...</th>\n",
       "      <th>APP_PACKETS</th>\n",
       "      <th>DNS_QUERY_TIMES</th>\n",
       "      <th>Type</th>\n",
       "      <th>URL</th>\n",
       "      <th>CHARSET</th>\n",
       "      <th>SERVER</th>\n",
       "      <th>WHOIS_COUNTRY</th>\n",
       "      <th>WHOIS_STATEPRO</th>\n",
       "      <th>WHOIS_REGDATE</th>\n",
       "      <th>WHOIS_UPDATED_DATE</th>\n",
       "    </tr>\n",
       "  </thead>\n",
       "  <tbody>\n",
       "    <tr>\n",
       "      <th>0</th>\n",
       "      <td>-1.547797</td>\n",
       "      <td>-0.92395</td>\n",
       "      <td>-0.315040</td>\n",
       "      <td>-0.220869</td>\n",
       "      <td>-0.503888</td>\n",
       "      <td>-0.352784</td>\n",
       "      <td>-0.260058</td>\n",
       "      <td>-0.224820</td>\n",
       "      <td>-0.187614</td>\n",
       "      <td>-0.199904</td>\n",
       "      <td>...</td>\n",
       "      <td>-0.224820</td>\n",
       "      <td>-0.134932</td>\n",
       "      <td>2.850025</td>\n",
       "      <td>M0_109</td>\n",
       "      <td>iso-8859-1</td>\n",
       "      <td>nginx</td>\n",
       "      <td>None</td>\n",
       "      <td>None</td>\n",
       "      <td>10/10/2015 18:21</td>\n",
       "      <td>None</td>\n",
       "    </tr>\n",
       "    <tr>\n",
       "      <th>1</th>\n",
       "      <td>-1.547797</td>\n",
       "      <td>-1.16654</td>\n",
       "      <td>0.092098</td>\n",
       "      <td>0.000779</td>\n",
       "      <td>0.512749</td>\n",
       "      <td>0.241023</td>\n",
       "      <td>-0.124984</td>\n",
       "      <td>-0.051090</td>\n",
       "      <td>-0.007651</td>\n",
       "      <td>-0.198493</td>\n",
       "      <td>...</td>\n",
       "      <td>-0.051090</td>\n",
       "      <td>-0.844061</td>\n",
       "      <td>-0.350874</td>\n",
       "      <td>B0_2314</td>\n",
       "      <td>UTF-8</td>\n",
       "      <td>Apache/2.4.10</td>\n",
       "      <td>None</td>\n",
       "      <td>None</td>\n",
       "      <td>None</td>\n",
       "      <td>None</td>\n",
       "    </tr>\n",
       "    <tr>\n",
       "      <th>2</th>\n",
       "      <td>-1.547797</td>\n",
       "      <td>-1.16654</td>\n",
       "      <td>-0.313365</td>\n",
       "      <td>-0.376023</td>\n",
       "      <td>-0.503888</td>\n",
       "      <td>-0.946590</td>\n",
       "      <td>-0.438458</td>\n",
       "      <td>-0.420265</td>\n",
       "      <td>-0.387573</td>\n",
       "      <td>-0.214429</td>\n",
       "      <td>...</td>\n",
       "      <td>-0.420265</td>\n",
       "      <td>-0.844061</td>\n",
       "      <td>-0.350874</td>\n",
       "      <td>B0_911</td>\n",
       "      <td>us-ascii</td>\n",
       "      <td>Microsoft-HTTPAPI/2.0</td>\n",
       "      <td>None</td>\n",
       "      <td>None</td>\n",
       "      <td>None</td>\n",
       "      <td>None</td>\n",
       "    </tr>\n",
       "    <tr>\n",
       "      <th>3</th>\n",
       "      <td>-1.508672</td>\n",
       "      <td>-1.16654</td>\n",
       "      <td>-0.317814</td>\n",
       "      <td>0.311087</td>\n",
       "      <td>2.691258</td>\n",
       "      <td>-0.055880</td>\n",
       "      <td>0.533056</td>\n",
       "      <td>0.426666</td>\n",
       "      <td>0.352275</td>\n",
       "      <td>0.022197</td>\n",
       "      <td>...</td>\n",
       "      <td>0.426666</td>\n",
       "      <td>1.992453</td>\n",
       "      <td>-0.350874</td>\n",
       "      <td>B0_113</td>\n",
       "      <td>ISO-8859-1</td>\n",
       "      <td>nginx</td>\n",
       "      <td>US</td>\n",
       "      <td>AK</td>\n",
       "      <td>7/10/1997 4:00</td>\n",
       "      <td>12/09/2013 0:45</td>\n",
       "    </tr>\n",
       "    <tr>\n",
       "      <th>4</th>\n",
       "      <td>-1.508672</td>\n",
       "      <td>-1.16654</td>\n",
       "      <td>3.087212</td>\n",
       "      <td>0.887373</td>\n",
       "      <td>-0.213420</td>\n",
       "      <td>0.537926</td>\n",
       "      <td>0.651820</td>\n",
       "      <td>0.904422</td>\n",
       "      <td>0.852173</td>\n",
       "      <td>1.421808</td>\n",
       "      <td>...</td>\n",
       "      <td>0.904422</td>\n",
       "      <td>0.574196</td>\n",
       "      <td>-0.350874</td>\n",
       "      <td>B0_403</td>\n",
       "      <td>UTF-8</td>\n",
       "      <td>None</td>\n",
       "      <td>US</td>\n",
       "      <td>TX</td>\n",
       "      <td>12/05/1996 0:00</td>\n",
       "      <td>11/04/2017 0:00</td>\n",
       "    </tr>\n",
       "  </tbody>\n",
       "</table>\n",
       "<p>5 rows × 21 columns</p>\n",
       "</div>"
      ],
      "text/plain": [
       "   URL_LENGTH  NUMBER_SPECIAL_CHARACTERS  CONTENT_LENGTH  \\\n",
       "0   -1.547797                   -0.92395       -0.315040   \n",
       "1   -1.547797                   -1.16654        0.092098   \n",
       "2   -1.547797                   -1.16654       -0.313365   \n",
       "3   -1.508672                   -1.16654       -0.317814   \n",
       "4   -1.508672                   -1.16654        3.087212   \n",
       "\n",
       "   TCP_CONVERSATION_EXCHANGE  DIST_REMOTE_TCP_PORT  REMOTE_IPS  APP_BYTES  \\\n",
       "0                  -0.220869             -0.503888   -0.352784  -0.260058   \n",
       "1                   0.000779              0.512749    0.241023  -0.124984   \n",
       "2                  -0.376023             -0.503888   -0.946590  -0.438458   \n",
       "3                   0.311087              2.691258   -0.055880   0.533056   \n",
       "4                   0.887373             -0.213420    0.537926   0.651820   \n",
       "\n",
       "   SOURCE_APP_PACKETS  REMOTE_APP_PACKETS  SOURCE_APP_BYTES  ...  APP_PACKETS  \\\n",
       "0           -0.224820           -0.187614         -0.199904  ...    -0.224820   \n",
       "1           -0.051090           -0.007651         -0.198493  ...    -0.051090   \n",
       "2           -0.420265           -0.387573         -0.214429  ...    -0.420265   \n",
       "3            0.426666            0.352275          0.022197  ...     0.426666   \n",
       "4            0.904422            0.852173          1.421808  ...     0.904422   \n",
       "\n",
       "   DNS_QUERY_TIMES      Type      URL     CHARSET                 SERVER  \\\n",
       "0        -0.134932  2.850025   M0_109  iso-8859-1                  nginx   \n",
       "1        -0.844061 -0.350874  B0_2314       UTF-8          Apache/2.4.10   \n",
       "2        -0.844061 -0.350874   B0_911    us-ascii  Microsoft-HTTPAPI/2.0   \n",
       "3         1.992453 -0.350874   B0_113  ISO-8859-1                  nginx   \n",
       "4         0.574196 -0.350874   B0_403       UTF-8                   None   \n",
       "\n",
       "  WHOIS_COUNTRY WHOIS_STATEPRO     WHOIS_REGDATE WHOIS_UPDATED_DATE  \n",
       "0          None           None  10/10/2015 18:21               None  \n",
       "1          None           None              None               None  \n",
       "2          None           None              None               None  \n",
       "3            US             AK    7/10/1997 4:00    12/09/2013 0:45  \n",
       "4            US             TX   12/05/1996 0:00    11/04/2017 0:00  \n",
       "\n",
       "[5 rows x 21 columns]"
      ]
     },
     "execution_count": 11,
     "metadata": {},
     "output_type": "execute_result"
    }
   ],
   "source": [
    "data_num=pd.DataFrame(StandardScaler().fit_transform(websites._get_numeric_data()),\n",
    "                      \n",
    "                      columns=websites._get_numeric_data().columns)\n",
    "\n",
    "\n",
    "data_obj=websites.select_dtypes(include='object')\n",
    "\n",
    "data=pd.concat([data_num, data_obj], axis=1)\n",
    "\n",
    "data.head()"
   ]
  },
  {
   "cell_type": "code",
   "execution_count": 12,
   "metadata": {},
   "outputs": [
    {
     "data": {
      "text/html": [
       "<div>\n",
       "<style scoped>\n",
       "    .dataframe tbody tr th:only-of-type {\n",
       "        vertical-align: middle;\n",
       "    }\n",
       "\n",
       "    .dataframe tbody tr th {\n",
       "        vertical-align: top;\n",
       "    }\n",
       "\n",
       "    .dataframe thead th {\n",
       "        text-align: right;\n",
       "    }\n",
       "</style>\n",
       "<table border=\"1\" class=\"dataframe\">\n",
       "  <thead>\n",
       "    <tr style=\"text-align: right;\">\n",
       "      <th></th>\n",
       "      <th>URL_LENGTH</th>\n",
       "      <th>NUMBER_SPECIAL_CHARACTERS</th>\n",
       "      <th>CONTENT_LENGTH</th>\n",
       "      <th>TCP_CONVERSATION_EXCHANGE</th>\n",
       "      <th>DIST_REMOTE_TCP_PORT</th>\n",
       "      <th>REMOTE_IPS</th>\n",
       "      <th>APP_BYTES</th>\n",
       "      <th>SOURCE_APP_PACKETS</th>\n",
       "      <th>REMOTE_APP_PACKETS</th>\n",
       "      <th>SOURCE_APP_BYTES</th>\n",
       "      <th>REMOTE_APP_BYTES</th>\n",
       "      <th>APP_PACKETS</th>\n",
       "      <th>DNS_QUERY_TIMES</th>\n",
       "      <th>Type</th>\n",
       "    </tr>\n",
       "  </thead>\n",
       "  <tbody>\n",
       "    <tr>\n",
       "      <th>URL_LENGTH</th>\n",
       "      <td>1.000000</td>\n",
       "      <td>0.914616</td>\n",
       "      <td>0.130209</td>\n",
       "      <td>0.018584</td>\n",
       "      <td>0.071610</td>\n",
       "      <td>0.053408</td>\n",
       "      <td>0.016469</td>\n",
       "      <td>0.018902</td>\n",
       "      <td>0.013793</td>\n",
       "      <td>0.012381</td>\n",
       "      <td>0.017463</td>\n",
       "      <td>0.018902</td>\n",
       "      <td>0.011702</td>\n",
       "      <td>-0.183955</td>\n",
       "    </tr>\n",
       "    <tr>\n",
       "      <th>NUMBER_SPECIAL_CHARACTERS</th>\n",
       "      <td>0.914616</td>\n",
       "      <td>1.000000</td>\n",
       "      <td>0.214466</td>\n",
       "      <td>0.018174</td>\n",
       "      <td>0.054938</td>\n",
       "      <td>0.057562</td>\n",
       "      <td>0.019724</td>\n",
       "      <td>0.021984</td>\n",
       "      <td>0.016633</td>\n",
       "      <td>0.007171</td>\n",
       "      <td>0.023288</td>\n",
       "      <td>0.021984</td>\n",
       "      <td>0.069238</td>\n",
       "      <td>-0.026275</td>\n",
       "    </tr>\n",
       "    <tr>\n",
       "      <th>CONTENT_LENGTH</th>\n",
       "      <td>0.130209</td>\n",
       "      <td>0.214466</td>\n",
       "      <td>1.000000</td>\n",
       "      <td>0.078418</td>\n",
       "      <td>-0.000420</td>\n",
       "      <td>0.004748</td>\n",
       "      <td>0.051151</td>\n",
       "      <td>0.074101</td>\n",
       "      <td>0.091031</td>\n",
       "      <td>0.100060</td>\n",
       "      <td>0.047537</td>\n",
       "      <td>0.074101</td>\n",
       "      <td>-0.045716</td>\n",
       "      <td>-0.090929</td>\n",
       "    </tr>\n",
       "    <tr>\n",
       "      <th>TCP_CONVERSATION_EXCHANGE</th>\n",
       "      <td>0.018584</td>\n",
       "      <td>0.018174</td>\n",
       "      <td>0.078418</td>\n",
       "      <td>1.000000</td>\n",
       "      <td>0.235672</td>\n",
       "      <td>0.307239</td>\n",
       "      <td>0.976480</td>\n",
       "      <td>0.998291</td>\n",
       "      <td>0.993865</td>\n",
       "      <td>0.972554</td>\n",
       "      <td>0.970667</td>\n",
       "      <td>0.998291</td>\n",
       "      <td>0.300822</td>\n",
       "      <td>0.000347</td>\n",
       "    </tr>\n",
       "    <tr>\n",
       "      <th>DIST_REMOTE_TCP_PORT</th>\n",
       "      <td>0.071610</td>\n",
       "      <td>0.054938</td>\n",
       "      <td>-0.000420</td>\n",
       "      <td>0.235672</td>\n",
       "      <td>1.000000</td>\n",
       "      <td>0.442912</td>\n",
       "      <td>0.314607</td>\n",
       "      <td>0.258648</td>\n",
       "      <td>0.236733</td>\n",
       "      <td>0.137946</td>\n",
       "      <td>0.331813</td>\n",
       "      <td>0.258648</td>\n",
       "      <td>0.453453</td>\n",
       "      <td>-0.136900</td>\n",
       "    </tr>\n",
       "    <tr>\n",
       "      <th>REMOTE_IPS</th>\n",
       "      <td>0.053408</td>\n",
       "      <td>0.057562</td>\n",
       "      <td>0.004748</td>\n",
       "      <td>0.307239</td>\n",
       "      <td>0.442912</td>\n",
       "      <td>1.000000</td>\n",
       "      <td>0.337006</td>\n",
       "      <td>0.334414</td>\n",
       "      <td>0.289318</td>\n",
       "      <td>0.154791</td>\n",
       "      <td>0.359046</td>\n",
       "      <td>0.334414</td>\n",
       "      <td>0.543964</td>\n",
       "      <td>0.048205</td>\n",
       "    </tr>\n",
       "    <tr>\n",
       "      <th>APP_BYTES</th>\n",
       "      <td>0.016469</td>\n",
       "      <td>0.019724</td>\n",
       "      <td>0.051151</td>\n",
       "      <td>0.976480</td>\n",
       "      <td>0.314607</td>\n",
       "      <td>0.337006</td>\n",
       "      <td>1.000000</td>\n",
       "      <td>0.981002</td>\n",
       "      <td>0.971596</td>\n",
       "      <td>0.931299</td>\n",
       "      <td>0.998748</td>\n",
       "      <td>0.981002</td>\n",
       "      <td>0.394992</td>\n",
       "      <td>0.022187</td>\n",
       "    </tr>\n",
       "    <tr>\n",
       "      <th>SOURCE_APP_PACKETS</th>\n",
       "      <td>0.018902</td>\n",
       "      <td>0.021984</td>\n",
       "      <td>0.074101</td>\n",
       "      <td>0.998291</td>\n",
       "      <td>0.258648</td>\n",
       "      <td>0.334414</td>\n",
       "      <td>0.981002</td>\n",
       "      <td>1.000000</td>\n",
       "      <td>0.993040</td>\n",
       "      <td>0.963407</td>\n",
       "      <td>0.978080</td>\n",
       "      <td>1.000000</td>\n",
       "      <td>0.356007</td>\n",
       "      <td>0.017656</td>\n",
       "    </tr>\n",
       "    <tr>\n",
       "      <th>REMOTE_APP_PACKETS</th>\n",
       "      <td>0.013793</td>\n",
       "      <td>0.016633</td>\n",
       "      <td>0.091031</td>\n",
       "      <td>0.993865</td>\n",
       "      <td>0.236733</td>\n",
       "      <td>0.289318</td>\n",
       "      <td>0.971596</td>\n",
       "      <td>0.993040</td>\n",
       "      <td>1.000000</td>\n",
       "      <td>0.978830</td>\n",
       "      <td>0.966535</td>\n",
       "      <td>0.993040</td>\n",
       "      <td>0.312929</td>\n",
       "      <td>0.003206</td>\n",
       "    </tr>\n",
       "    <tr>\n",
       "      <th>SOURCE_APP_BYTES</th>\n",
       "      <td>0.012381</td>\n",
       "      <td>0.007171</td>\n",
       "      <td>0.100060</td>\n",
       "      <td>0.972554</td>\n",
       "      <td>0.137946</td>\n",
       "      <td>0.154791</td>\n",
       "      <td>0.931299</td>\n",
       "      <td>0.963407</td>\n",
       "      <td>0.978830</td>\n",
       "      <td>1.000000</td>\n",
       "      <td>0.919344</td>\n",
       "      <td>0.963407</td>\n",
       "      <td>0.169382</td>\n",
       "      <td>-0.036737</td>\n",
       "    </tr>\n",
       "    <tr>\n",
       "      <th>REMOTE_APP_BYTES</th>\n",
       "      <td>0.017463</td>\n",
       "      <td>0.023288</td>\n",
       "      <td>0.047537</td>\n",
       "      <td>0.970667</td>\n",
       "      <td>0.331813</td>\n",
       "      <td>0.359046</td>\n",
       "      <td>0.998748</td>\n",
       "      <td>0.978080</td>\n",
       "      <td>0.966535</td>\n",
       "      <td>0.919344</td>\n",
       "      <td>1.000000</td>\n",
       "      <td>0.978080</td>\n",
       "      <td>0.440278</td>\n",
       "      <td>0.036317</td>\n",
       "    </tr>\n",
       "    <tr>\n",
       "      <th>APP_PACKETS</th>\n",
       "      <td>0.018902</td>\n",
       "      <td>0.021984</td>\n",
       "      <td>0.074101</td>\n",
       "      <td>0.998291</td>\n",
       "      <td>0.258648</td>\n",
       "      <td>0.334414</td>\n",
       "      <td>0.981002</td>\n",
       "      <td>1.000000</td>\n",
       "      <td>0.993040</td>\n",
       "      <td>0.963407</td>\n",
       "      <td>0.978080</td>\n",
       "      <td>1.000000</td>\n",
       "      <td>0.356007</td>\n",
       "      <td>0.017656</td>\n",
       "    </tr>\n",
       "    <tr>\n",
       "      <th>DNS_QUERY_TIMES</th>\n",
       "      <td>0.011702</td>\n",
       "      <td>0.069238</td>\n",
       "      <td>-0.045716</td>\n",
       "      <td>0.300822</td>\n",
       "      <td>0.453453</td>\n",
       "      <td>0.543964</td>\n",
       "      <td>0.394992</td>\n",
       "      <td>0.356007</td>\n",
       "      <td>0.312929</td>\n",
       "      <td>0.169382</td>\n",
       "      <td>0.440278</td>\n",
       "      <td>0.356007</td>\n",
       "      <td>1.000000</td>\n",
       "      <td>0.283626</td>\n",
       "    </tr>\n",
       "    <tr>\n",
       "      <th>Type</th>\n",
       "      <td>-0.183955</td>\n",
       "      <td>-0.026275</td>\n",
       "      <td>-0.090929</td>\n",
       "      <td>0.000347</td>\n",
       "      <td>-0.136900</td>\n",
       "      <td>0.048205</td>\n",
       "      <td>0.022187</td>\n",
       "      <td>0.017656</td>\n",
       "      <td>0.003206</td>\n",
       "      <td>-0.036737</td>\n",
       "      <td>0.036317</td>\n",
       "      <td>0.017656</td>\n",
       "      <td>0.283626</td>\n",
       "      <td>1.000000</td>\n",
       "    </tr>\n",
       "  </tbody>\n",
       "</table>\n",
       "</div>"
      ],
      "text/plain": [
       "                           URL_LENGTH  NUMBER_SPECIAL_CHARACTERS  \\\n",
       "URL_LENGTH                   1.000000                   0.914616   \n",
       "NUMBER_SPECIAL_CHARACTERS    0.914616                   1.000000   \n",
       "CONTENT_LENGTH               0.130209                   0.214466   \n",
       "TCP_CONVERSATION_EXCHANGE    0.018584                   0.018174   \n",
       "DIST_REMOTE_TCP_PORT         0.071610                   0.054938   \n",
       "REMOTE_IPS                   0.053408                   0.057562   \n",
       "APP_BYTES                    0.016469                   0.019724   \n",
       "SOURCE_APP_PACKETS           0.018902                   0.021984   \n",
       "REMOTE_APP_PACKETS           0.013793                   0.016633   \n",
       "SOURCE_APP_BYTES             0.012381                   0.007171   \n",
       "REMOTE_APP_BYTES             0.017463                   0.023288   \n",
       "APP_PACKETS                  0.018902                   0.021984   \n",
       "DNS_QUERY_TIMES              0.011702                   0.069238   \n",
       "Type                        -0.183955                  -0.026275   \n",
       "\n",
       "                           CONTENT_LENGTH  TCP_CONVERSATION_EXCHANGE  \\\n",
       "URL_LENGTH                       0.130209                   0.018584   \n",
       "NUMBER_SPECIAL_CHARACTERS        0.214466                   0.018174   \n",
       "CONTENT_LENGTH                   1.000000                   0.078418   \n",
       "TCP_CONVERSATION_EXCHANGE        0.078418                   1.000000   \n",
       "DIST_REMOTE_TCP_PORT            -0.000420                   0.235672   \n",
       "REMOTE_IPS                       0.004748                   0.307239   \n",
       "APP_BYTES                        0.051151                   0.976480   \n",
       "SOURCE_APP_PACKETS               0.074101                   0.998291   \n",
       "REMOTE_APP_PACKETS               0.091031                   0.993865   \n",
       "SOURCE_APP_BYTES                 0.100060                   0.972554   \n",
       "REMOTE_APP_BYTES                 0.047537                   0.970667   \n",
       "APP_PACKETS                      0.074101                   0.998291   \n",
       "DNS_QUERY_TIMES                 -0.045716                   0.300822   \n",
       "Type                            -0.090929                   0.000347   \n",
       "\n",
       "                           DIST_REMOTE_TCP_PORT  REMOTE_IPS  APP_BYTES  \\\n",
       "URL_LENGTH                             0.071610    0.053408   0.016469   \n",
       "NUMBER_SPECIAL_CHARACTERS              0.054938    0.057562   0.019724   \n",
       "CONTENT_LENGTH                        -0.000420    0.004748   0.051151   \n",
       "TCP_CONVERSATION_EXCHANGE              0.235672    0.307239   0.976480   \n",
       "DIST_REMOTE_TCP_PORT                   1.000000    0.442912   0.314607   \n",
       "REMOTE_IPS                             0.442912    1.000000   0.337006   \n",
       "APP_BYTES                              0.314607    0.337006   1.000000   \n",
       "SOURCE_APP_PACKETS                     0.258648    0.334414   0.981002   \n",
       "REMOTE_APP_PACKETS                     0.236733    0.289318   0.971596   \n",
       "SOURCE_APP_BYTES                       0.137946    0.154791   0.931299   \n",
       "REMOTE_APP_BYTES                       0.331813    0.359046   0.998748   \n",
       "APP_PACKETS                            0.258648    0.334414   0.981002   \n",
       "DNS_QUERY_TIMES                        0.453453    0.543964   0.394992   \n",
       "Type                                  -0.136900    0.048205   0.022187   \n",
       "\n",
       "                           SOURCE_APP_PACKETS  REMOTE_APP_PACKETS  \\\n",
       "URL_LENGTH                           0.018902            0.013793   \n",
       "NUMBER_SPECIAL_CHARACTERS            0.021984            0.016633   \n",
       "CONTENT_LENGTH                       0.074101            0.091031   \n",
       "TCP_CONVERSATION_EXCHANGE            0.998291            0.993865   \n",
       "DIST_REMOTE_TCP_PORT                 0.258648            0.236733   \n",
       "REMOTE_IPS                           0.334414            0.289318   \n",
       "APP_BYTES                            0.981002            0.971596   \n",
       "SOURCE_APP_PACKETS                   1.000000            0.993040   \n",
       "REMOTE_APP_PACKETS                   0.993040            1.000000   \n",
       "SOURCE_APP_BYTES                     0.963407            0.978830   \n",
       "REMOTE_APP_BYTES                     0.978080            0.966535   \n",
       "APP_PACKETS                          1.000000            0.993040   \n",
       "DNS_QUERY_TIMES                      0.356007            0.312929   \n",
       "Type                                 0.017656            0.003206   \n",
       "\n",
       "                           SOURCE_APP_BYTES  REMOTE_APP_BYTES  APP_PACKETS  \\\n",
       "URL_LENGTH                         0.012381          0.017463     0.018902   \n",
       "NUMBER_SPECIAL_CHARACTERS          0.007171          0.023288     0.021984   \n",
       "CONTENT_LENGTH                     0.100060          0.047537     0.074101   \n",
       "TCP_CONVERSATION_EXCHANGE          0.972554          0.970667     0.998291   \n",
       "DIST_REMOTE_TCP_PORT               0.137946          0.331813     0.258648   \n",
       "REMOTE_IPS                         0.154791          0.359046     0.334414   \n",
       "APP_BYTES                          0.931299          0.998748     0.981002   \n",
       "SOURCE_APP_PACKETS                 0.963407          0.978080     1.000000   \n",
       "REMOTE_APP_PACKETS                 0.978830          0.966535     0.993040   \n",
       "SOURCE_APP_BYTES                   1.000000          0.919344     0.963407   \n",
       "REMOTE_APP_BYTES                   0.919344          1.000000     0.978080   \n",
       "APP_PACKETS                        0.963407          0.978080     1.000000   \n",
       "DNS_QUERY_TIMES                    0.169382          0.440278     0.356007   \n",
       "Type                              -0.036737          0.036317     0.017656   \n",
       "\n",
       "                           DNS_QUERY_TIMES      Type  \n",
       "URL_LENGTH                        0.011702 -0.183955  \n",
       "NUMBER_SPECIAL_CHARACTERS         0.069238 -0.026275  \n",
       "CONTENT_LENGTH                   -0.045716 -0.090929  \n",
       "TCP_CONVERSATION_EXCHANGE         0.300822  0.000347  \n",
       "DIST_REMOTE_TCP_PORT              0.453453 -0.136900  \n",
       "REMOTE_IPS                        0.543964  0.048205  \n",
       "APP_BYTES                         0.394992  0.022187  \n",
       "SOURCE_APP_PACKETS                0.356007  0.017656  \n",
       "REMOTE_APP_PACKETS                0.312929  0.003206  \n",
       "SOURCE_APP_BYTES                  0.169382 -0.036737  \n",
       "REMOTE_APP_BYTES                  0.440278  0.036317  \n",
       "APP_PACKETS                       0.356007  0.017656  \n",
       "DNS_QUERY_TIMES                   1.000000  0.283626  \n",
       "Type                              0.283626  1.000000  "
      ]
     },
     "execution_count": 12,
     "metadata": {},
     "output_type": "execute_result"
    }
   ],
   "source": [
    "corr=websites.corr()   # correlation matrix\n",
    "\n",
    "corr"
   ]
  },
  {
   "cell_type": "code",
   "execution_count": 13,
   "metadata": {},
   "outputs": [
    {
     "data": {
      "image/png": "[encoded data removed]",
      "text/plain": [
       "<Figure size 1080x720 with 2 Axes>"
      ]
     },
     "metadata": {},
     "output_type": "display_data"
    }
   ],
   "source": [
    "# Your code here\n",
    "plt.figure(figsize=(15, 10))\n",
    "\n",
    "sns.set(style='white')\n",
    "\n",
    "mask=np.triu(np.ones_like(websites.corr(), dtype=bool))\n",
    "\n",
    "cmap=sns.diverging_palette(0, 10, as_cmap=True)\n",
    "\n",
    "\n",
    "sns.heatmap(websites.corr(),\n",
    "           mask=mask,\n",
    "          cmap=cmap,\n",
    "          center=0,\n",
    "          square=True,\n",
    "          annot=True,\n",
    "          linewidths=0.5,\n",
    "          cbar_kws={'shrink': 0.5});\n"
   ]
  },
  {
   "cell_type": "code",
   "execution_count": 14,
   "metadata": {},
   "outputs": [],
   "source": [
    "# Your comment here\n",
    "\n",
    "# TCP_conversatuion packet, Source-app packets, remote-app packets, app_packets\n"
   ]
  },
  {
   "cell_type": "markdown",
   "metadata": {},
   "source": [
    "# Challenge 2 - Remove Column Collinearity.\n",
    "\n",
    "From the heatmap you created, you should have seen at least 3 columns that can be removed due to high collinearity. Remove these columns from the dataset.\n",
    "\n",
    "Note that you should remove as few columns as you can. You don't have to remove all the columns at once. But instead, try removing one column, then produce the heatmap again to determine if additional columns should be removed. As long as the dataset no longer contains columns that are correlated for over 90%, you can stop. Also, keep in mind when two columns have high collinearity, you only need to remove one of them but not both.\n",
    "\n",
    "In the cells below, remove as few columns as you can to eliminate the high collinearity in the dataset. Make sure to comment on your way so that the instructional team can learn about your thinking process which allows them to give feedback. At the end, print the heatmap again."
   ]
  },
  {
   "cell_type": "code",
   "execution_count": 15,
   "metadata": {},
   "outputs": [
    {
     "data": {
      "text/plain": [
       "Index(['URL', 'URL_LENGTH', 'NUMBER_SPECIAL_CHARACTERS', 'CHARSET', 'SERVER',\n",
       "       'CONTENT_LENGTH', 'WHOIS_COUNTRY', 'WHOIS_STATEPRO', 'WHOIS_REGDATE',\n",
       "       'WHOIS_UPDATED_DATE', 'TCP_CONVERSATION_EXCHANGE',\n",
       "       'DIST_REMOTE_TCP_PORT', 'REMOTE_IPS', 'APP_BYTES', 'SOURCE_APP_PACKETS',\n",
       "       'REMOTE_APP_PACKETS', 'SOURCE_APP_BYTES', 'REMOTE_APP_BYTES',\n",
       "       'APP_PACKETS', 'DNS_QUERY_TIMES', 'Type'],\n",
       "      dtype='object')"
      ]
     },
     "execution_count": 15,
     "metadata": {},
     "output_type": "execute_result"
    }
   ],
   "source": [
    "websites.columns"
   ]
  },
  {
   "cell_type": "code",
   "execution_count": 16,
   "metadata": {},
   "outputs": [],
   "source": [
    "# Your code here\n",
    "new_websites = websites.drop(['APP_PACKETS', 'TCP_CONVERSATION_EXCHANGE','REMOTE_APP_BYTES' ], axis=1)\n"
   ]
  },
  {
   "cell_type": "code",
   "execution_count": 17,
   "metadata": {},
   "outputs": [
    {
     "data": {
      "text/html": [
       "<div>\n",
       "<style scoped>\n",
       "    .dataframe tbody tr th:only-of-type {\n",
       "        vertical-align: middle;\n",
       "    }\n",
       "\n",
       "    .dataframe tbody tr th {\n",
       "        vertical-align: top;\n",
       "    }\n",
       "\n",
       "    .dataframe thead th {\n",
       "        text-align: right;\n",
       "    }\n",
       "</style>\n",
       "<table border=\"1\" class=\"dataframe\">\n",
       "  <thead>\n",
       "    <tr style=\"text-align: right;\">\n",
       "      <th></th>\n",
       "      <th>URL_LENGTH</th>\n",
       "      <th>NUMBER_SPECIAL_CHARACTERS</th>\n",
       "      <th>CONTENT_LENGTH</th>\n",
       "      <th>DIST_REMOTE_TCP_PORT</th>\n",
       "      <th>REMOTE_IPS</th>\n",
       "      <th>APP_BYTES</th>\n",
       "      <th>SOURCE_APP_PACKETS</th>\n",
       "      <th>REMOTE_APP_PACKETS</th>\n",
       "      <th>SOURCE_APP_BYTES</th>\n",
       "      <th>DNS_QUERY_TIMES</th>\n",
       "      <th>Type</th>\n",
       "    </tr>\n",
       "  </thead>\n",
       "  <tbody>\n",
       "    <tr>\n",
       "      <th>URL_LENGTH</th>\n",
       "      <td>1.000000</td>\n",
       "      <td>0.914616</td>\n",
       "      <td>0.130209</td>\n",
       "      <td>0.071610</td>\n",
       "      <td>0.053408</td>\n",
       "      <td>0.016469</td>\n",
       "      <td>0.018902</td>\n",
       "      <td>0.013793</td>\n",
       "      <td>0.012381</td>\n",
       "      <td>0.011702</td>\n",
       "      <td>-0.183955</td>\n",
       "    </tr>\n",
       "    <tr>\n",
       "      <th>NUMBER_SPECIAL_CHARACTERS</th>\n",
       "      <td>0.914616</td>\n",
       "      <td>1.000000</td>\n",
       "      <td>0.214466</td>\n",
       "      <td>0.054938</td>\n",
       "      <td>0.057562</td>\n",
       "      <td>0.019724</td>\n",
       "      <td>0.021984</td>\n",
       "      <td>0.016633</td>\n",
       "      <td>0.007171</td>\n",
       "      <td>0.069238</td>\n",
       "      <td>-0.026275</td>\n",
       "    </tr>\n",
       "    <tr>\n",
       "      <th>CONTENT_LENGTH</th>\n",
       "      <td>0.130209</td>\n",
       "      <td>0.214466</td>\n",
       "      <td>1.000000</td>\n",
       "      <td>-0.000420</td>\n",
       "      <td>0.004748</td>\n",
       "      <td>0.051151</td>\n",
       "      <td>0.074101</td>\n",
       "      <td>0.091031</td>\n",
       "      <td>0.100060</td>\n",
       "      <td>-0.045716</td>\n",
       "      <td>-0.090929</td>\n",
       "    </tr>\n",
       "    <tr>\n",
       "      <th>DIST_REMOTE_TCP_PORT</th>\n",
       "      <td>0.071610</td>\n",
       "      <td>0.054938</td>\n",
       "      <td>-0.000420</td>\n",
       "      <td>1.000000</td>\n",
       "      <td>0.442912</td>\n",
       "      <td>0.314607</td>\n",
       "      <td>0.258648</td>\n",
       "      <td>0.236733</td>\n",
       "      <td>0.137946</td>\n",
       "      <td>0.453453</td>\n",
       "      <td>-0.136900</td>\n",
       "    </tr>\n",
       "    <tr>\n",
       "      <th>REMOTE_IPS</th>\n",
       "      <td>0.053408</td>\n",
       "      <td>0.057562</td>\n",
       "      <td>0.004748</td>\n",
       "      <td>0.442912</td>\n",
       "      <td>1.000000</td>\n",
       "      <td>0.337006</td>\n",
       "      <td>0.334414</td>\n",
       "      <td>0.289318</td>\n",
       "      <td>0.154791</td>\n",
       "      <td>0.543964</td>\n",
       "      <td>0.048205</td>\n",
       "    </tr>\n",
       "    <tr>\n",
       "      <th>APP_BYTES</th>\n",
       "      <td>0.016469</td>\n",
       "      <td>0.019724</td>\n",
       "      <td>0.051151</td>\n",
       "      <td>0.314607</td>\n",
       "      <td>0.337006</td>\n",
       "      <td>1.000000</td>\n",
       "      <td>0.981002</td>\n",
       "      <td>0.971596</td>\n",
       "      <td>0.931299</td>\n",
       "      <td>0.394992</td>\n",
       "      <td>0.022187</td>\n",
       "    </tr>\n",
       "    <tr>\n",
       "      <th>SOURCE_APP_PACKETS</th>\n",
       "      <td>0.018902</td>\n",
       "      <td>0.021984</td>\n",
       "      <td>0.074101</td>\n",
       "      <td>0.258648</td>\n",
       "      <td>0.334414</td>\n",
       "      <td>0.981002</td>\n",
       "      <td>1.000000</td>\n",
       "      <td>0.993040</td>\n",
       "      <td>0.963407</td>\n",
       "      <td>0.356007</td>\n",
       "      <td>0.017656</td>\n",
       "    </tr>\n",
       "    <tr>\n",
       "      <th>REMOTE_APP_PACKETS</th>\n",
       "      <td>0.013793</td>\n",
       "      <td>0.016633</td>\n",
       "      <td>0.091031</td>\n",
       "      <td>0.236733</td>\n",
       "      <td>0.289318</td>\n",
       "      <td>0.971596</td>\n",
       "      <td>0.993040</td>\n",
       "      <td>1.000000</td>\n",
       "      <td>0.978830</td>\n",
       "      <td>0.312929</td>\n",
       "      <td>0.003206</td>\n",
       "    </tr>\n",
       "    <tr>\n",
       "      <th>SOURCE_APP_BYTES</th>\n",
       "      <td>0.012381</td>\n",
       "      <td>0.007171</td>\n",
       "      <td>0.100060</td>\n",
       "      <td>0.137946</td>\n",
       "      <td>0.154791</td>\n",
       "      <td>0.931299</td>\n",
       "      <td>0.963407</td>\n",
       "      <td>0.978830</td>\n",
       "      <td>1.000000</td>\n",
       "      <td>0.169382</td>\n",
       "      <td>-0.036737</td>\n",
       "    </tr>\n",
       "    <tr>\n",
       "      <th>DNS_QUERY_TIMES</th>\n",
       "      <td>0.011702</td>\n",
       "      <td>0.069238</td>\n",
       "      <td>-0.045716</td>\n",
       "      <td>0.453453</td>\n",
       "      <td>0.543964</td>\n",
       "      <td>0.394992</td>\n",
       "      <td>0.356007</td>\n",
       "      <td>0.312929</td>\n",
       "      <td>0.169382</td>\n",
       "      <td>1.000000</td>\n",
       "      <td>0.283626</td>\n",
       "    </tr>\n",
       "    <tr>\n",
       "      <th>Type</th>\n",
       "      <td>-0.183955</td>\n",
       "      <td>-0.026275</td>\n",
       "      <td>-0.090929</td>\n",
       "      <td>-0.136900</td>\n",
       "      <td>0.048205</td>\n",
       "      <td>0.022187</td>\n",
       "      <td>0.017656</td>\n",
       "      <td>0.003206</td>\n",
       "      <td>-0.036737</td>\n",
       "      <td>0.283626</td>\n",
       "      <td>1.000000</td>\n",
       "    </tr>\n",
       "  </tbody>\n",
       "</table>\n",
       "</div>"
      ],
      "text/plain": [
       "                           URL_LENGTH  NUMBER_SPECIAL_CHARACTERS  \\\n",
       "URL_LENGTH                   1.000000                   0.914616   \n",
       "NUMBER_SPECIAL_CHARACTERS    0.914616                   1.000000   \n",
       "CONTENT_LENGTH               0.130209                   0.214466   \n",
       "DIST_REMOTE_TCP_PORT         0.071610                   0.054938   \n",
       "REMOTE_IPS                   0.053408                   0.057562   \n",
       "APP_BYTES                    0.016469                   0.019724   \n",
       "SOURCE_APP_PACKETS           0.018902                   0.021984   \n",
       "REMOTE_APP_PACKETS           0.013793                   0.016633   \n",
       "SOURCE_APP_BYTES             0.012381                   0.007171   \n",
       "DNS_QUERY_TIMES              0.011702                   0.069238   \n",
       "Type                        -0.183955                  -0.026275   \n",
       "\n",
       "                           CONTENT_LENGTH  DIST_REMOTE_TCP_PORT  REMOTE_IPS  \\\n",
       "URL_LENGTH                       0.130209              0.071610    0.053408   \n",
       "NUMBER_SPECIAL_CHARACTERS        0.214466              0.054938    0.057562   \n",
       "CONTENT_LENGTH                   1.000000             -0.000420    0.004748   \n",
       "DIST_REMOTE_TCP_PORT            -0.000420              1.000000    0.442912   \n",
       "REMOTE_IPS                       0.004748              0.442912    1.000000   \n",
       "APP_BYTES                        0.051151              0.314607    0.337006   \n",
       "SOURCE_APP_PACKETS               0.074101              0.258648    0.334414   \n",
       "REMOTE_APP_PACKETS               0.091031              0.236733    0.289318   \n",
       "SOURCE_APP_BYTES                 0.100060              0.137946    0.154791   \n",
       "DNS_QUERY_TIMES                 -0.045716              0.453453    0.543964   \n",
       "Type                            -0.090929             -0.136900    0.048205   \n",
       "\n",
       "                           APP_BYTES  SOURCE_APP_PACKETS  REMOTE_APP_PACKETS  \\\n",
       "URL_LENGTH                  0.016469            0.018902            0.013793   \n",
       "NUMBER_SPECIAL_CHARACTERS   0.019724            0.021984            0.016633   \n",
       "CONTENT_LENGTH              0.051151            0.074101            0.091031   \n",
       "DIST_REMOTE_TCP_PORT        0.314607            0.258648            0.236733   \n",
       "REMOTE_IPS                  0.337006            0.334414            0.289318   \n",
       "APP_BYTES                   1.000000            0.981002            0.971596   \n",
       "SOURCE_APP_PACKETS          0.981002            1.000000            0.993040   \n",
       "REMOTE_APP_PACKETS          0.971596            0.993040            1.000000   \n",
       "SOURCE_APP_BYTES            0.931299            0.963407            0.978830   \n",
       "DNS_QUERY_TIMES             0.394992            0.356007            0.312929   \n",
       "Type                        0.022187            0.017656            0.003206   \n",
       "\n",
       "                           SOURCE_APP_BYTES  DNS_QUERY_TIMES      Type  \n",
       "URL_LENGTH                         0.012381         0.011702 -0.183955  \n",
       "NUMBER_SPECIAL_CHARACTERS          0.007171         0.069238 -0.026275  \n",
       "CONTENT_LENGTH                     0.100060        -0.045716 -0.090929  \n",
       "DIST_REMOTE_TCP_PORT               0.137946         0.453453 -0.136900  \n",
       "REMOTE_IPS                         0.154791         0.543964  0.048205  \n",
       "APP_BYTES                          0.931299         0.394992  0.022187  \n",
       "SOURCE_APP_PACKETS                 0.963407         0.356007  0.017656  \n",
       "REMOTE_APP_PACKETS                 0.978830         0.312929  0.003206  \n",
       "SOURCE_APP_BYTES                   1.000000         0.169382 -0.036737  \n",
       "DNS_QUERY_TIMES                    0.169382         1.000000  0.283626  \n",
       "Type                              -0.036737         0.283626  1.000000  "
      ]
     },
     "execution_count": 17,
     "metadata": {},
     "output_type": "execute_result"
    }
   ],
   "source": [
    "\n",
    "\n",
    "corr=new_websites.corr()   # correlation matrix\n",
    "\n",
    "corr"
   ]
  },
  {
   "cell_type": "code",
   "execution_count": 18,
   "metadata": {},
   "outputs": [
    {
     "data": {
      "image/png": "[encoded data removed]",
      "text/plain": [
       "<Figure size 1080x720 with 2 Axes>"
      ]
     },
     "metadata": {},
     "output_type": "display_data"
    }
   ],
   "source": [
    "# Your code here\n",
    "plt.figure(figsize=(15, 10))\n",
    "\n",
    "sns.set(style='white')\n",
    "\n",
    "mask=np.triu(np.ones_like(new_websites.corr(), dtype=bool))\n",
    "\n",
    "cmap=sns.diverging_palette(0, 10, as_cmap=True)\n",
    "\n",
    "\n",
    "sns.heatmap(new_websites.corr(),\n",
    "           mask=mask,\n",
    "          cmap=cmap,\n",
    "          center=0,\n",
    "          square=True,\n",
    "          annot=True,\n",
    "          linewidths=0.5,\n",
    "          cbar_kws={'shrink': 0.5});\n"
   ]
  },
  {
   "cell_type": "code",
   "execution_count": 19,
   "metadata": {},
   "outputs": [],
   "source": [
    "# Your comment here"
   ]
  },
  {
   "cell_type": "code",
   "execution_count": 20,
   "metadata": {},
   "outputs": [
    {
     "data": {
      "text/plain": [
       "(967, 18)"
      ]
     },
     "execution_count": 20,
     "metadata": {},
     "output_type": "execute_result"
    }
   ],
   "source": [
    "# Print heatmap again\n",
    "new_websites.shape"
   ]
  },
  {
   "cell_type": "markdown",
   "metadata": {},
   "source": [
    "# Challenge 3 - Handle Missing Values\n",
    "\n",
    "The next step would be handling missing values. **We start by examining the number of missing values in each column, which you will do in the next cell.**"
   ]
  },
  {
   "cell_type": "code",
   "execution_count": 21,
   "metadata": {},
   "outputs": [
    {
     "name": "stdout",
     "output_type": "stream",
     "text": [
      "<class 'pandas.core.frame.DataFrame'>\n",
      "Int64Index: 967 entries, 0 to 1780\n",
      "Data columns (total 18 columns):\n",
      " #   Column                     Non-Null Count  Dtype  \n",
      "---  ------                     --------------  -----  \n",
      " 0   URL                        967 non-null    object \n",
      " 1   URL_LENGTH                 967 non-null    int64  \n",
      " 2   NUMBER_SPECIAL_CHARACTERS  967 non-null    int64  \n",
      " 3   CHARSET                    967 non-null    object \n",
      " 4   SERVER                     967 non-null    object \n",
      " 5   CONTENT_LENGTH             967 non-null    float64\n",
      " 6   WHOIS_COUNTRY              967 non-null    object \n",
      " 7   WHOIS_STATEPRO             967 non-null    object \n",
      " 8   WHOIS_REGDATE              967 non-null    object \n",
      " 9   WHOIS_UPDATED_DATE         967 non-null    object \n",
      " 10  DIST_REMOTE_TCP_PORT       967 non-null    int64  \n",
      " 11  REMOTE_IPS                 967 non-null    int64  \n",
      " 12  APP_BYTES                  967 non-null    int64  \n",
      " 13  SOURCE_APP_PACKETS         967 non-null    int64  \n",
      " 14  REMOTE_APP_PACKETS         967 non-null    int64  \n",
      " 15  SOURCE_APP_BYTES           967 non-null    int64  \n",
      " 16  DNS_QUERY_TIMES            967 non-null    float64\n",
      " 17  Type                       967 non-null    int64  \n",
      "dtypes: float64(2), int64(9), object(7)\n",
      "memory usage: 175.8+ KB\n"
     ]
    }
   ],
   "source": [
    "# Your code here\n",
    "new_websites.info()"
   ]
  },
  {
   "cell_type": "markdown",
   "metadata": {},
   "source": [
    "If you remember in the previous labs, we drop a column if the column contains a high proportion of missing values. After dropping those problematic columns, we drop the rows with missing values.\n",
    "\n",
    "#### In the cells below, handle the missing values from the dataset. Remember to comment the rationale of your decisions."
   ]
  },
  {
   "cell_type": "code",
   "execution_count": 22,
   "metadata": {},
   "outputs": [
    {
     "data": {
      "text/plain": [
       "(967, 18)"
      ]
     },
     "execution_count": 22,
     "metadata": {},
     "output_type": "execute_result"
    }
   ],
   "source": [
    "new_websites.shape"
   ]
  },
  {
   "cell_type": "code",
   "execution_count": 23,
   "metadata": {},
   "outputs": [],
   "source": [
    "# Your code here\n",
    "\n",
    "new_websites = new_websites.drop('CONTENT_LENGTH', axis=1)\n"
   ]
  },
  {
   "cell_type": "code",
   "execution_count": 24,
   "metadata": {},
   "outputs": [],
   "source": [
    "new_websites = new_websites[new_websites.WHOIS_COUNTRY != 'None']\n",
    "new_websites = new_websites[new_websites.WHOIS_STATEPRO != 'None']\n",
    "new_websites = new_websites[new_websites.WHOIS_UPDATED_DATE != 'None']\n",
    "\n",
    "\n"
   ]
  },
  {
   "cell_type": "code",
   "execution_count": 25,
   "metadata": {},
   "outputs": [],
   "source": [
    "new_websites = new_websites.dropna(axis = 0, how ='any') \n"
   ]
  },
  {
   "cell_type": "code",
   "execution_count": 26,
   "metadata": {},
   "outputs": [
    {
     "data": {
      "text/plain": [
       "(719, 17)"
      ]
     },
     "execution_count": 26,
     "metadata": {},
     "output_type": "execute_result"
    }
   ],
   "source": [
    "new_websites.shape"
   ]
  },
  {
   "cell_type": "code",
   "execution_count": 27,
   "metadata": {},
   "outputs": [
    {
     "data": {
      "text/plain": [
       "(719, 17)"
      ]
     },
     "execution_count": 27,
     "metadata": {},
     "output_type": "execute_result"
    }
   ],
   "source": [
    "# Your comment here\n",
    "new_websites.shape"
   ]
  },
  {
   "cell_type": "code",
   "execution_count": 28,
   "metadata": {},
   "outputs": [
    {
     "data": {
      "text/html": [
       "<div>\n",
       "<style scoped>\n",
       "    .dataframe tbody tr th:only-of-type {\n",
       "        vertical-align: middle;\n",
       "    }\n",
       "\n",
       "    .dataframe tbody tr th {\n",
       "        vertical-align: top;\n",
       "    }\n",
       "\n",
       "    .dataframe thead th {\n",
       "        text-align: right;\n",
       "    }\n",
       "</style>\n",
       "<table border=\"1\" class=\"dataframe\">\n",
       "  <thead>\n",
       "    <tr style=\"text-align: right;\">\n",
       "      <th></th>\n",
       "      <th>URL</th>\n",
       "      <th>URL_LENGTH</th>\n",
       "      <th>NUMBER_SPECIAL_CHARACTERS</th>\n",
       "      <th>CHARSET</th>\n",
       "      <th>SERVER</th>\n",
       "      <th>WHOIS_COUNTRY</th>\n",
       "      <th>WHOIS_STATEPRO</th>\n",
       "      <th>WHOIS_REGDATE</th>\n",
       "      <th>WHOIS_UPDATED_DATE</th>\n",
       "      <th>DIST_REMOTE_TCP_PORT</th>\n",
       "      <th>REMOTE_IPS</th>\n",
       "      <th>APP_BYTES</th>\n",
       "      <th>SOURCE_APP_PACKETS</th>\n",
       "      <th>REMOTE_APP_PACKETS</th>\n",
       "      <th>SOURCE_APP_BYTES</th>\n",
       "      <th>DNS_QUERY_TIMES</th>\n",
       "      <th>Type</th>\n",
       "    </tr>\n",
       "  </thead>\n",
       "  <tbody>\n",
       "    <tr>\n",
       "      <th>3</th>\n",
       "      <td>B0_113</td>\n",
       "      <td>17</td>\n",
       "      <td>6</td>\n",
       "      <td>ISO-8859-1</td>\n",
       "      <td>nginx</td>\n",
       "      <td>US</td>\n",
       "      <td>AK</td>\n",
       "      <td>7/10/1997 4:00</td>\n",
       "      <td>12/09/2013 0:45</td>\n",
       "      <td>22</td>\n",
       "      <td>3</td>\n",
       "      <td>3812</td>\n",
       "      <td>39</td>\n",
       "      <td>37</td>\n",
       "      <td>18784</td>\n",
       "      <td>8.0</td>\n",
       "      <td>0</td>\n",
       "    </tr>\n",
       "    <tr>\n",
       "      <th>4</th>\n",
       "      <td>B0_403</td>\n",
       "      <td>17</td>\n",
       "      <td>6</td>\n",
       "      <td>UTF-8</td>\n",
       "      <td>None</td>\n",
       "      <td>US</td>\n",
       "      <td>TX</td>\n",
       "      <td>12/05/1996 0:00</td>\n",
       "      <td>11/04/2017 0:00</td>\n",
       "      <td>2</td>\n",
       "      <td>5</td>\n",
       "      <td>4278</td>\n",
       "      <td>61</td>\n",
       "      <td>62</td>\n",
       "      <td>129889</td>\n",
       "      <td>4.0</td>\n",
       "      <td>0</td>\n",
       "    </tr>\n",
       "    <tr>\n",
       "      <th>6</th>\n",
       "      <td>B0_462</td>\n",
       "      <td>18</td>\n",
       "      <td>6</td>\n",
       "      <td>iso-8859-1</td>\n",
       "      <td>Apache/2</td>\n",
       "      <td>US</td>\n",
       "      <td>CO</td>\n",
       "      <td>29/07/2002 0:00</td>\n",
       "      <td>1/07/2016 0:00</td>\n",
       "      <td>0</td>\n",
       "      <td>3</td>\n",
       "      <td>1189</td>\n",
       "      <td>14</td>\n",
       "      <td>13</td>\n",
       "      <td>8559</td>\n",
       "      <td>2.0</td>\n",
       "      <td>0</td>\n",
       "    </tr>\n",
       "    <tr>\n",
       "      <th>7</th>\n",
       "      <td>B0_1128</td>\n",
       "      <td>19</td>\n",
       "      <td>6</td>\n",
       "      <td>us-ascii</td>\n",
       "      <td>Microsoft-HTTPAPI/2.0</td>\n",
       "      <td>US</td>\n",
       "      <td>FL</td>\n",
       "      <td>18/03/1997 0:00</td>\n",
       "      <td>19/03/2017 0:00</td>\n",
       "      <td>0</td>\n",
       "      <td>0</td>\n",
       "      <td>0</td>\n",
       "      <td>0</td>\n",
       "      <td>0</td>\n",
       "      <td>0</td>\n",
       "      <td>0.0</td>\n",
       "      <td>0</td>\n",
       "    </tr>\n",
       "    <tr>\n",
       "      <th>11</th>\n",
       "      <td>B0_1102</td>\n",
       "      <td>20</td>\n",
       "      <td>6</td>\n",
       "      <td>us-ascii</td>\n",
       "      <td>Microsoft-HTTPAPI/2.0</td>\n",
       "      <td>US</td>\n",
       "      <td>CO</td>\n",
       "      <td>22/11/2016 0:00</td>\n",
       "      <td>23/11/2016 0:00</td>\n",
       "      <td>0</td>\n",
       "      <td>0</td>\n",
       "      <td>0</td>\n",
       "      <td>0</td>\n",
       "      <td>0</td>\n",
       "      <td>0</td>\n",
       "      <td>0.0</td>\n",
       "      <td>0</td>\n",
       "    </tr>\n",
       "  </tbody>\n",
       "</table>\n",
       "</div>"
      ],
      "text/plain": [
       "        URL  URL_LENGTH  NUMBER_SPECIAL_CHARACTERS     CHARSET  \\\n",
       "3    B0_113          17                          6  ISO-8859-1   \n",
       "4    B0_403          17                          6       UTF-8   \n",
       "6    B0_462          18                          6  iso-8859-1   \n",
       "7   B0_1128          19                          6    us-ascii   \n",
       "11  B0_1102          20                          6    us-ascii   \n",
       "\n",
       "                   SERVER WHOIS_COUNTRY WHOIS_STATEPRO    WHOIS_REGDATE  \\\n",
       "3                   nginx            US             AK   7/10/1997 4:00   \n",
       "4                    None            US             TX  12/05/1996 0:00   \n",
       "6                Apache/2            US             CO  29/07/2002 0:00   \n",
       "7   Microsoft-HTTPAPI/2.0            US             FL  18/03/1997 0:00   \n",
       "11  Microsoft-HTTPAPI/2.0            US             CO  22/11/2016 0:00   \n",
       "\n",
       "   WHOIS_UPDATED_DATE  DIST_REMOTE_TCP_PORT  REMOTE_IPS  APP_BYTES  \\\n",
       "3     12/09/2013 0:45                    22           3       3812   \n",
       "4     11/04/2017 0:00                     2           5       4278   \n",
       "6      1/07/2016 0:00                     0           3       1189   \n",
       "7     19/03/2017 0:00                     0           0          0   \n",
       "11    23/11/2016 0:00                     0           0          0   \n",
       "\n",
       "    SOURCE_APP_PACKETS  REMOTE_APP_PACKETS  SOURCE_APP_BYTES  DNS_QUERY_TIMES  \\\n",
       "3                   39                  37             18784              8.0   \n",
       "4                   61                  62            129889              4.0   \n",
       "6                   14                  13              8559              2.0   \n",
       "7                    0                   0                 0              0.0   \n",
       "11                   0                   0                 0              0.0   \n",
       "\n",
       "    Type  \n",
       "3      0  \n",
       "4      0  \n",
       "6      0  \n",
       "7      0  \n",
       "11     0  "
      ]
     },
     "execution_count": 28,
     "metadata": {},
     "output_type": "execute_result"
    }
   ],
   "source": [
    "new_websites.head()"
   ]
  },
  {
   "cell_type": "markdown",
   "metadata": {},
   "source": [
    "#### Again, examine the number of missing values in each column. \n",
    "\n",
    "If all cleaned, proceed. Otherwise, go back and do more cleaning."
   ]
  },
  {
   "cell_type": "code",
   "execution_count": 29,
   "metadata": {},
   "outputs": [],
   "source": [
    "# Examine missing values in each column\n",
    "# ALL CLEANED"
   ]
  },
  {
   "cell_type": "markdown",
   "metadata": {},
   "source": [
    "# Challenge 4 - Handle `WHOIS_*` Categorical Data"
   ]
  },
  {
   "cell_type": "markdown",
   "metadata": {},
   "source": [
    "There are several categorical columns we need to handle. These columns are:\n",
    "\n",
    "* `URL`\n",
    "* `CHARSET`\n",
    "* `SERVER`\n",
    "* `WHOIS_COUNTRY`\n",
    "* `WHOIS_STATEPRO`\n",
    "* `WHOIS_REGDATE`\n",
    "* `WHOIS_UPDATED_DATE`\n",
    "\n",
    "How to handle string columns is always case by case. Let's start by working on `WHOIS_COUNTRY`. Your steps are:\n",
    "\n",
    "1. List out the unique values of `WHOIS_COUNTRY`.\n",
    "1. Consolidate the country values with consistent country codes. For example, the following values refer to the same country and should use consistent country code:\n",
    "    * `CY` and `Cyprus`\n",
    "    * `US` and `us`\n",
    "    * `SE` and `se`\n",
    "    * `GB`, `United Kingdom`, and `[u'GB'; u'UK']`\n",
    "\n",
    "#### In the cells below, fix the country values as intructed above."
   ]
  },
  {
   "cell_type": "code",
   "execution_count": 30,
   "metadata": {},
   "outputs": [
    {
     "name": "stdout",
     "output_type": "stream",
     "text": [
      "<class 'pandas.core.frame.DataFrame'>\n",
      "Int64Index: 719 entries, 3 to 1780\n",
      "Data columns (total 17 columns):\n",
      " #   Column                     Non-Null Count  Dtype  \n",
      "---  ------                     --------------  -----  \n",
      " 0   URL                        719 non-null    object \n",
      " 1   URL_LENGTH                 719 non-null    int64  \n",
      " 2   NUMBER_SPECIAL_CHARACTERS  719 non-null    int64  \n",
      " 3   CHARSET                    719 non-null    object \n",
      " 4   SERVER                     719 non-null    object \n",
      " 5   WHOIS_COUNTRY              719 non-null    object \n",
      " 6   WHOIS_STATEPRO             719 non-null    object \n",
      " 7   WHOIS_REGDATE              719 non-null    object \n",
      " 8   WHOIS_UPDATED_DATE         719 non-null    object \n",
      " 9   DIST_REMOTE_TCP_PORT       719 non-null    int64  \n",
      " 10  REMOTE_IPS                 719 non-null    int64  \n",
      " 11  APP_BYTES                  719 non-null    int64  \n",
      " 12  SOURCE_APP_PACKETS         719 non-null    int64  \n",
      " 13  REMOTE_APP_PACKETS         719 non-null    int64  \n",
      " 14  SOURCE_APP_BYTES           719 non-null    int64  \n",
      " 15  DNS_QUERY_TIMES            719 non-null    float64\n",
      " 16  Type                       719 non-null    int64  \n",
      "dtypes: float64(1), int64(9), object(7)\n",
      "memory usage: 101.1+ KB\n"
     ]
    }
   ],
   "source": [
    "new_websites.info ('deep')"
   ]
  },
  {
   "cell_type": "code",
   "execution_count": 31,
   "metadata": {},
   "outputs": [],
   "source": [
    "new_websites.WHOIS_COUNTRY = new_websites.WHOIS_COUNTRY.str.replace('United Kingdom', 'GB')\n",
    "new_websites.WHOIS_COUNTRY = new_websites.WHOIS_COUNTRY.str.replace('Cyprus', 'CY')\n",
    "new_websites.WHOIS_COUNTRY = new_websites.WHOIS_COUNTRY.str.replace('se', 'SE')\n",
    "new_websites.WHOIS_COUNTRY = new_websites.WHOIS_COUNTRY.str.replace('us', 'US')\n",
    "new_websites.WHOIS_COUNTRY = new_websites.WHOIS_COUNTRY.str.replace('ru', 'RU')\n",
    "#new_websites.WHOIS_COUNTRY = new_websites.WHOIS_COUNTRY.str.replace(\"[u'GB'; u'UK']\", 'US')"
   ]
  },
  {
   "cell_type": "code",
   "execution_count": 32,
   "metadata": {},
   "outputs": [],
   "source": [
    "new_websites.WHOIS_COUNTRY = [\"UK\" if \"GB\" in s or \"KINGDOM\" in s else s for s in new_websites.WHOIS_COUNTRY]\n"
   ]
  },
  {
   "cell_type": "code",
   "execution_count": 33,
   "metadata": {},
   "outputs": [
    {
     "data": {
      "text/plain": [
       "US    590\n",
       "CA     45\n",
       "UK     16\n",
       "AU     12\n",
       "PA     10\n",
       "JP      6\n",
       "CH      5\n",
       "IN      4\n",
       "AT      4\n",
       "SC      2\n",
       "BS      2\n",
       "UA      2\n",
       "NL      2\n",
       "UY      2\n",
       "CN      2\n",
       "UG      1\n",
       "PH      1\n",
       "IE      1\n",
       "AE      1\n",
       "BY      1\n",
       "BE      1\n",
       "NO      1\n",
       "TR      1\n",
       "KY      1\n",
       "DE      1\n",
       "IL      1\n",
       "HK      1\n",
       "SI      1\n",
       "RU      1\n",
       "IT      1\n",
       "Name: WHOIS_COUNTRY, dtype: int64"
      ]
     },
     "execution_count": 33,
     "metadata": {},
     "output_type": "execute_result"
    }
   ],
   "source": [
    "# Your code here\n",
    "new_websites.WHOIS_COUNTRY.value_counts()\n"
   ]
  },
  {
   "cell_type": "code",
   "execution_count": 34,
   "metadata": {},
   "outputs": [],
   "source": [
    "import pandas as pd\n",
    "import numpy as np"
   ]
  },
  {
   "cell_type": "code",
   "execution_count": 35,
   "metadata": {},
   "outputs": [
    {
     "data": {
      "text/plain": [
       "3       US\n",
       "4       US\n",
       "6       US\n",
       "7       US\n",
       "11      US\n",
       "        ..\n",
       "1766    US\n",
       "1768    US\n",
       "1774    US\n",
       "1778    US\n",
       "1780    US\n",
       "Name: WHOIS_COUNTRY, Length: 719, dtype: object"
      ]
     },
     "execution_count": 35,
     "metadata": {},
     "output_type": "execute_result"
    }
   ],
   "source": [
    "new_websites['WHOIS_COUNTRY'].str.upper()\n"
   ]
  },
  {
   "cell_type": "code",
   "execution_count": null,
   "metadata": {},
   "outputs": [],
   "source": []
  },
  {
   "cell_type": "markdown",
   "metadata": {},
   "source": [
    "Since we have fixed the country values, can we convert this column to ordinal now?\n",
    "\n",
    "Not yet. If you reflect on the previous labs how we handle categorical columns, you probably remember we ended up dropping a lot of those columns because there are too many unique values. Too many unique values in a column is not desirable in machine learning because it makes prediction inaccurate. But there are workarounds under certain conditions. One of the fixable conditions is:\n",
    "\n",
    "#### If a limited number of values account for the majority of data, we can retain these top values and re-label all other rare values.\n",
    "\n",
    "The `WHOIS_COUNTRY` column happens to be this case. You can verify it by print a bar chart of the `value_counts` in the next cell to verify:"
   ]
  },
  {
   "cell_type": "code",
   "execution_count": 36,
   "metadata": {},
   "outputs": [
    {
     "data": {
      "text/plain": [
       "<AxesSubplot:>"
      ]
     },
     "execution_count": 36,
     "metadata": {},
     "output_type": "execute_result"
    },
    {
     "data": {
      "image/png": "[encoded data removed]",
      "text/plain": [
       "<Figure size 432x288 with 1 Axes>"
      ]
     },
     "metadata": {},
     "output_type": "display_data"
    }
   ],
   "source": [
    "# Your code here\n",
    "new_websites.WHOIS_COUNTRY.value_counts().sort_index(ascending=False).plot(kind='barh')\n",
    "\n",
    "\n"
   ]
  },
  {
   "cell_type": "markdown",
   "metadata": {},
   "source": [
    "#### After verifying, now let's keep the top 10 values of the column and re-label other columns with `OTHER`."
   ]
  },
  {
   "cell_type": "code",
   "execution_count": 37,
   "metadata": {
    "scrolled": true
   },
   "outputs": [
    {
     "data": {
      "text/plain": [
       "US    590\n",
       "CA     45\n",
       "UK     16\n",
       "AU     12\n",
       "PA     10\n",
       "JP      6\n",
       "CH      5\n",
       "IN      4\n",
       "AT      4\n",
       "SC      2\n",
       "BS      2\n",
       "UA      2\n",
       "NL      2\n",
       "UY      2\n",
       "CN      2\n",
       "UG      1\n",
       "PH      1\n",
       "IE      1\n",
       "AE      1\n",
       "BY      1\n",
       "BE      1\n",
       "NO      1\n",
       "TR      1\n",
       "KY      1\n",
       "DE      1\n",
       "IL      1\n",
       "HK      1\n",
       "SI      1\n",
       "RU      1\n",
       "IT      1\n",
       "Name: WHOIS_COUNTRY, dtype: int64"
      ]
     },
     "execution_count": 37,
     "metadata": {},
     "output_type": "execute_result"
    }
   ],
   "source": [
    "# Your code here\n",
    "new_websites.WHOIS_COUNTRY.value_counts()\n"
   ]
  },
  {
   "cell_type": "code",
   "execution_count": 38,
   "metadata": {},
   "outputs": [],
   "source": [
    "# reeemplazamos todo aquello que no sea top 10 a OTHER\n",
    "\n",
    "top10 = list(new_websites.WHOIS_COUNTRY.value_counts().head(11).index)\n",
    "\n",
    "new_websites.loc[-new_websites['WHOIS_COUNTRY'].isin(top10), ['WHOIS_COUNTRY']] = 'OTHER'\n"
   ]
  },
  {
   "cell_type": "code",
   "execution_count": 39,
   "metadata": {},
   "outputs": [
    {
     "data": {
      "text/plain": [
       "US       590\n",
       "CA        45\n",
       "OTHER     23\n",
       "UK        16\n",
       "AU        12\n",
       "PA        10\n",
       "JP         6\n",
       "CH         5\n",
       "IN         4\n",
       "AT         4\n",
       "SC         2\n",
       "BS         2\n",
       "Name: WHOIS_COUNTRY, dtype: int64"
      ]
     },
     "execution_count": 39,
     "metadata": {},
     "output_type": "execute_result"
    }
   ],
   "source": [
    "new_websites.WHOIS_COUNTRY.value_counts()"
   ]
  },
  {
   "cell_type": "markdown",
   "metadata": {},
   "source": [
    "Now since `WHOIS_COUNTRY` has been re-labelled, we don't need `WHOIS_STATEPRO` any more because the values of the states or provinces may not be relevant any more. We'll drop this column.\n",
    "\n",
    "In addition, we will also drop `WHOIS_REGDATE` and `WHOIS_UPDATED_DATE`. These are the registration and update dates of the website domains. Not of our concerns.\n",
    "\n",
    "#### In the next cell, drop `['WHOIS_STATEPRO', 'WHOIS_REGDATE', 'WHOIS_UPDATED_DATE']`."
   ]
  },
  {
   "cell_type": "code",
   "execution_count": 40,
   "metadata": {},
   "outputs": [],
   "source": [
    "# Your code here\n",
    "new_websites = websites.drop(['WHOIS_STATEPRO', 'WHOIS_REGDATE','WHOIS_UPDATED_DATE' ], axis=1)\n"
   ]
  },
  {
   "cell_type": "code",
   "execution_count": 41,
   "metadata": {},
   "outputs": [
    {
     "data": {
      "text/plain": [
       "(967, 18)"
      ]
     },
     "execution_count": 41,
     "metadata": {},
     "output_type": "execute_result"
    }
   ],
   "source": [
    "new_websites.shape"
   ]
  },
  {
   "cell_type": "code",
   "execution_count": 42,
   "metadata": {},
   "outputs": [
    {
     "data": {
      "text/html": [
       "<div>\n",
       "<style scoped>\n",
       "    .dataframe tbody tr th:only-of-type {\n",
       "        vertical-align: middle;\n",
       "    }\n",
       "\n",
       "    .dataframe tbody tr th {\n",
       "        vertical-align: top;\n",
       "    }\n",
       "\n",
       "    .dataframe thead th {\n",
       "        text-align: right;\n",
       "    }\n",
       "</style>\n",
       "<table border=\"1\" class=\"dataframe\">\n",
       "  <thead>\n",
       "    <tr style=\"text-align: right;\">\n",
       "      <th></th>\n",
       "      <th>URL</th>\n",
       "      <th>URL_LENGTH</th>\n",
       "      <th>NUMBER_SPECIAL_CHARACTERS</th>\n",
       "      <th>CHARSET</th>\n",
       "      <th>SERVER</th>\n",
       "      <th>CONTENT_LENGTH</th>\n",
       "      <th>WHOIS_COUNTRY</th>\n",
       "      <th>TCP_CONVERSATION_EXCHANGE</th>\n",
       "      <th>DIST_REMOTE_TCP_PORT</th>\n",
       "      <th>REMOTE_IPS</th>\n",
       "      <th>APP_BYTES</th>\n",
       "      <th>SOURCE_APP_PACKETS</th>\n",
       "      <th>REMOTE_APP_PACKETS</th>\n",
       "      <th>SOURCE_APP_BYTES</th>\n",
       "      <th>REMOTE_APP_BYTES</th>\n",
       "      <th>APP_PACKETS</th>\n",
       "      <th>DNS_QUERY_TIMES</th>\n",
       "      <th>Type</th>\n",
       "    </tr>\n",
       "  </thead>\n",
       "  <tbody>\n",
       "    <tr>\n",
       "      <th>0</th>\n",
       "      <td>M0_109</td>\n",
       "      <td>16</td>\n",
       "      <td>7</td>\n",
       "      <td>iso-8859-1</td>\n",
       "      <td>nginx</td>\n",
       "      <td>263.0</td>\n",
       "      <td>None</td>\n",
       "      <td>7</td>\n",
       "      <td>0</td>\n",
       "      <td>2</td>\n",
       "      <td>700</td>\n",
       "      <td>9</td>\n",
       "      <td>10</td>\n",
       "      <td>1153</td>\n",
       "      <td>832</td>\n",
       "      <td>9</td>\n",
       "      <td>2.0</td>\n",
       "      <td>1</td>\n",
       "    </tr>\n",
       "    <tr>\n",
       "      <th>1</th>\n",
       "      <td>B0_2314</td>\n",
       "      <td>16</td>\n",
       "      <td>6</td>\n",
       "      <td>UTF-8</td>\n",
       "      <td>Apache/2.4.10</td>\n",
       "      <td>15087.0</td>\n",
       "      <td>None</td>\n",
       "      <td>17</td>\n",
       "      <td>7</td>\n",
       "      <td>4</td>\n",
       "      <td>1230</td>\n",
       "      <td>17</td>\n",
       "      <td>19</td>\n",
       "      <td>1265</td>\n",
       "      <td>1230</td>\n",
       "      <td>17</td>\n",
       "      <td>0.0</td>\n",
       "      <td>0</td>\n",
       "    </tr>\n",
       "    <tr>\n",
       "      <th>2</th>\n",
       "      <td>B0_911</td>\n",
       "      <td>16</td>\n",
       "      <td>6</td>\n",
       "      <td>us-ascii</td>\n",
       "      <td>Microsoft-HTTPAPI/2.0</td>\n",
       "      <td>324.0</td>\n",
       "      <td>None</td>\n",
       "      <td>0</td>\n",
       "      <td>0</td>\n",
       "      <td>0</td>\n",
       "      <td>0</td>\n",
       "      <td>0</td>\n",
       "      <td>0</td>\n",
       "      <td>0</td>\n",
       "      <td>0</td>\n",
       "      <td>0</td>\n",
       "      <td>0.0</td>\n",
       "      <td>0</td>\n",
       "    </tr>\n",
       "    <tr>\n",
       "      <th>3</th>\n",
       "      <td>B0_113</td>\n",
       "      <td>17</td>\n",
       "      <td>6</td>\n",
       "      <td>ISO-8859-1</td>\n",
       "      <td>nginx</td>\n",
       "      <td>162.0</td>\n",
       "      <td>US</td>\n",
       "      <td>31</td>\n",
       "      <td>22</td>\n",
       "      <td>3</td>\n",
       "      <td>3812</td>\n",
       "      <td>39</td>\n",
       "      <td>37</td>\n",
       "      <td>18784</td>\n",
       "      <td>4380</td>\n",
       "      <td>39</td>\n",
       "      <td>8.0</td>\n",
       "      <td>0</td>\n",
       "    </tr>\n",
       "    <tr>\n",
       "      <th>4</th>\n",
       "      <td>B0_403</td>\n",
       "      <td>17</td>\n",
       "      <td>6</td>\n",
       "      <td>UTF-8</td>\n",
       "      <td>None</td>\n",
       "      <td>124140.0</td>\n",
       "      <td>US</td>\n",
       "      <td>57</td>\n",
       "      <td>2</td>\n",
       "      <td>5</td>\n",
       "      <td>4278</td>\n",
       "      <td>61</td>\n",
       "      <td>62</td>\n",
       "      <td>129889</td>\n",
       "      <td>4586</td>\n",
       "      <td>61</td>\n",
       "      <td>4.0</td>\n",
       "      <td>0</td>\n",
       "    </tr>\n",
       "  </tbody>\n",
       "</table>\n",
       "</div>"
      ],
      "text/plain": [
       "       URL  URL_LENGTH  NUMBER_SPECIAL_CHARACTERS     CHARSET  \\\n",
       "0   M0_109          16                          7  iso-8859-1   \n",
       "1  B0_2314          16                          6       UTF-8   \n",
       "2   B0_911          16                          6    us-ascii   \n",
       "3   B0_113          17                          6  ISO-8859-1   \n",
       "4   B0_403          17                          6       UTF-8   \n",
       "\n",
       "                  SERVER  CONTENT_LENGTH WHOIS_COUNTRY  \\\n",
       "0                  nginx           263.0          None   \n",
       "1          Apache/2.4.10         15087.0          None   \n",
       "2  Microsoft-HTTPAPI/2.0           324.0          None   \n",
       "3                  nginx           162.0            US   \n",
       "4                   None        124140.0            US   \n",
       "\n",
       "   TCP_CONVERSATION_EXCHANGE  DIST_REMOTE_TCP_PORT  REMOTE_IPS  APP_BYTES  \\\n",
       "0                          7                     0           2        700   \n",
       "1                         17                     7           4       1230   \n",
       "2                          0                     0           0          0   \n",
       "3                         31                    22           3       3812   \n",
       "4                         57                     2           5       4278   \n",
       "\n",
       "   SOURCE_APP_PACKETS  REMOTE_APP_PACKETS  SOURCE_APP_BYTES  REMOTE_APP_BYTES  \\\n",
       "0                   9                  10              1153               832   \n",
       "1                  17                  19              1265              1230   \n",
       "2                   0                   0                 0                 0   \n",
       "3                  39                  37             18784              4380   \n",
       "4                  61                  62            129889              4586   \n",
       "\n",
       "   APP_PACKETS  DNS_QUERY_TIMES  Type  \n",
       "0            9              2.0     1  \n",
       "1           17              0.0     0  \n",
       "2            0              0.0     0  \n",
       "3           39              8.0     0  \n",
       "4           61              4.0     0  "
      ]
     },
     "execution_count": 42,
     "metadata": {},
     "output_type": "execute_result"
    }
   ],
   "source": [
    "new_websites.head()"
   ]
  },
  {
   "cell_type": "markdown",
   "metadata": {},
   "source": [
    "# Challenge 5 - Handle Remaining Categorical Data & Convert to Ordinal\n",
    "\n",
    "Now print the `dtypes` of the data again. Besides `WHOIS_COUNTRY` which we already fixed, there should be 3 categorical columns left: `URL`, `CHARSET`, and `SERVER`."
   ]
  },
  {
   "cell_type": "code",
   "execution_count": 43,
   "metadata": {},
   "outputs": [
    {
     "name": "stdout",
     "output_type": "stream",
     "text": [
      "<class 'pandas.core.frame.DataFrame'>\n",
      "Int64Index: 967 entries, 0 to 1780\n",
      "Data columns (total 18 columns):\n",
      " #   Column                     Non-Null Count  Dtype  \n",
      "---  ------                     --------------  -----  \n",
      " 0   URL                        967 non-null    object \n",
      " 1   URL_LENGTH                 967 non-null    int64  \n",
      " 2   NUMBER_SPECIAL_CHARACTERS  967 non-null    int64  \n",
      " 3   CHARSET                    967 non-null    object \n",
      " 4   SERVER                     967 non-null    object \n",
      " 5   CONTENT_LENGTH             967 non-null    float64\n",
      " 6   WHOIS_COUNTRY              967 non-null    object \n",
      " 7   TCP_CONVERSATION_EXCHANGE  967 non-null    int64  \n",
      " 8   DIST_REMOTE_TCP_PORT       967 non-null    int64  \n",
      " 9   REMOTE_IPS                 967 non-null    int64  \n",
      " 10  APP_BYTES                  967 non-null    int64  \n",
      " 11  SOURCE_APP_PACKETS         967 non-null    int64  \n",
      " 12  REMOTE_APP_PACKETS         967 non-null    int64  \n",
      " 13  SOURCE_APP_BYTES           967 non-null    int64  \n",
      " 14  REMOTE_APP_BYTES           967 non-null    int64  \n",
      " 15  APP_PACKETS                967 non-null    int64  \n",
      " 16  DNS_QUERY_TIMES            967 non-null    float64\n",
      " 17  Type                       967 non-null    int64  \n",
      "dtypes: float64(2), int64(12), object(4)\n",
      "memory usage: 175.8+ KB\n"
     ]
    }
   ],
   "source": [
    "# Your code here\n",
    "new_websites.info()"
   ]
  },
  {
   "cell_type": "markdown",
   "metadata": {},
   "source": [
    "#### `URL` is easy. We'll simply drop it because it has too many unique values that there's no way for us to consolidate."
   ]
  },
  {
   "cell_type": "code",
   "execution_count": 44,
   "metadata": {},
   "outputs": [],
   "source": [
    "# Your code here\n",
    "new_websites = new_websites.drop(['URL'], axis=1)\n"
   ]
  },
  {
   "cell_type": "code",
   "execution_count": 45,
   "metadata": {},
   "outputs": [
    {
     "data": {
      "text/plain": [
       "(967, 17)"
      ]
     },
     "execution_count": 45,
     "metadata": {},
     "output_type": "execute_result"
    }
   ],
   "source": [
    "new_websites.shape"
   ]
  },
  {
   "cell_type": "markdown",
   "metadata": {},
   "source": [
    "#### Print the unique value counts of `CHARSET`. You see there are only a few unique values. So we can keep it as it is."
   ]
  },
  {
   "cell_type": "code",
   "execution_count": 46,
   "metadata": {},
   "outputs": [
    {
     "data": {
      "text/plain": [
       "array(['iso-8859-1', 'UTF-8', 'us-ascii', 'ISO-8859-1', 'utf-8', 'None',\n",
       "       'windows-1251', 'ISO-8859'], dtype=object)"
      ]
     },
     "execution_count": 46,
     "metadata": {},
     "output_type": "execute_result"
    }
   ],
   "source": [
    "# Your code here\n",
    "new_websites.CHARSET.unique()\n"
   ]
  },
  {
   "cell_type": "markdown",
   "metadata": {},
   "source": [
    "`SERVER` is a little more complicated. Print its unique values and think about how you can consolidate those values.\n",
    "\n",
    "#### Before you think of your own solution, don't read the instructions that come next."
   ]
  },
  {
   "cell_type": "code",
   "execution_count": 47,
   "metadata": {},
   "outputs": [
    {
     "data": {
      "text/plain": [
       "array(['nginx', 'Apache/2.4.10', 'Microsoft-HTTPAPI/2.0', 'None',\n",
       "       'Apache/2', 'Apache/2.2.15 (Red Hat)',\n",
       "       'Apache/2.4.23 (Unix) OpenSSL/1.0.1e-fips mod_bwlimited/1.4',\n",
       "       'Apache/2.2.22', 'Apache/2.4.7 (Ubuntu)', 'Apache',\n",
       "       'Apache/2.4.12 (Unix) OpenSSL/1.0.1e-fips mod_bwlimited/1.4',\n",
       "       'Oracle-iPlanet-Web-Server/7.0', 'nginx/1.6.2', 'Heptu web server',\n",
       "       'Microsoft-IIS/7.5', 'nginx/1.12.0',\n",
       "       'Apache/2.4.25 (cPanel) OpenSSL/1.0.1e-fips mod_bwlimited/1.4',\n",
       "       'tsa_c', 'Apache/2.2.22 (Debian)', 'Apache/2.4.25',\n",
       "       'Apache/2.4.25 (Amazon) PHP/7.0.14', 'GSE',\n",
       "       'Apache/2.4.23 (Unix) OpenSSL/0.9.8e-fips-rhel5 mod_bwlimited/1.4',\n",
       "       'Apache/2.4.25 (Amazon) OpenSSL/1.0.1k-fips',\n",
       "       'Apache/2.2.22 (Ubuntu)',\n",
       "       'Apache/2.4.18 (Unix) OpenSSL/0.9.8e-fips-rhel5 mod_bwlimited/1.4',\n",
       "       'Apache/2.4.6 (CentOS) PHP/5.6.8', 'AmazonS3', 'ATS',\n",
       "       'Apache/2.2.27 (CentOS)', 'CherryPy/3.6.0',\n",
       "       'Apache/2.2.15 (CentOS)', 'KHL',\n",
       "       'Apache/2.4.6 (CentOS) OpenSSL/1.0.1e-fips mod_fcgid/2.3.9 PHP/5.4.16 mod_jk/1.2.40',\n",
       "       'Apache/2.2.3 (CentOS)', 'Apache/2.4', 'Apache/2.2.31 (Amazon)',\n",
       "       'Apache/2.4.10 (Debian)', 'Apache/2.4.12 (Ubuntu)',\n",
       "       'Apache/2.2.29 (Unix) mod_ssl/2.2.29 OpenSSL/1.0.1e-fips mod_bwlimited/1.4',\n",
       "       'mw2232.codfw.wmnet', 'Sucuri/Cloudproxy', 'Apache/2.4.23 (Unix)',\n",
       "       'cloudflare-nginx', 'Apache/2.0.52 (Red Hat)',\n",
       "       'Apache/1.3.31 (Unix) PHP/4.3.9 mod_perl/1.29 rus/PL30.20',\n",
       "       'Apache/2.2.13 (Unix) mod_ssl/2.2.13 OpenSSL/0.9.8e-fips-rhel5 mod_auth_passthrough/2.1 mod_bwlimited/1.4 PHP/5.2.10',\n",
       "       'ATS/5.3.0', 'Apache/2.2.3 (Red Hat)', 'nginx/1.4.3',\n",
       "       'Apache/2.2.29 (Unix) mod_ssl/2.2.29 OpenSSL/1.0.1e-fips mod_bwlimited/1.4 PHP/5.4.35',\n",
       "       'Apache/2.2.14 (FreeBSD) mod_ssl/2.2.14 OpenSSL/0.9.8y DAV/2 PHP/5.2.12 with Suhosin-Patch',\n",
       "       'nginx/1.8.0',\n",
       "       'Apache/2.2.14 (Unix) mod_ssl/2.2.14 OpenSSL/0.9.8e-fips-rhel5',\n",
       "       'Microsoft-IIS/8.0', 'Apache/2.4.18 (Ubuntu)',\n",
       "       'Apache/2.4.6 (CentOS) OpenSSL/1.0.1e-fips PHP/5.4.16 mod_apreq2-20090110/2.8.0 mod_perl/2.0.10 Perl/v5.24.1',\n",
       "       'Apache/2.2.20 (Unix)', 'nginx/1.11.10', 'Yippee-Ki-Yay',\n",
       "       'mw2165.codfw.wmnet', 'Apache/2.2.23 (Amazon)', 'LiteSpeed',\n",
       "       'Proxy Pandeiro UOL', 'openresty/1.11.2.2', 'Apache-Coyote/1.1',\n",
       "       'mw2225.codfw.wmnet', 'nginx/1.1.19', 'Varnish',\n",
       "       'Microsoft-IIS/8.5', 'Apache/2.4.6 (CentOS)', 'barista/5.1.3',\n",
       "       'nginx/1.11.2', 'Apache/2.4.25 (Debian)', 'ECD (fll/0790)',\n",
       "       'nginx/1.10.3',\n",
       "       'Apache/2.4.25 (FreeBSD) OpenSSL/1.0.1s-freebsd PHP/5.6.30',\n",
       "       'mw2239.codfw.wmnet', 'mw2255.codfw.wmnet',\n",
       "       'Apache/2.2.31 (Unix) mod_ssl/2.2.31 OpenSSL/1.0.1e-fips mod_bwlimited/1.4 mod_fcgid/2.3.9',\n",
       "       'nginx/1.13.0',\n",
       "       'Apache/2.2.31 (Unix) mod_ssl/2.2.31 OpenSSL/0.9.8e-fips-rhel5 mod_bwlimited/1.4',\n",
       "       'Apache/2.4.6 (CentOS) OpenSSL/1.0.1e-fips PHP/5.4.16',\n",
       "       'nginx/1.11.3', 'lighttpd', 'mw2230.codfw.wmnet',\n",
       "       'Apache/2.4.6 (CentOS) OpenSSL/1.0.1e-fips', 'AkamaiGHost',\n",
       "       'PWS/8.2.0.7', 'nginx/1.2.1',\n",
       "       'Apache/2.2.16 (Unix) mod_ssl/2.2.16 OpenSSL/0.9.8e-fips-rhel5 mod_auth_passthrough/2.1 mod_bwlimited/1.4',\n",
       "       'Play', 'Apache/2.2.11 (Unix) PHP/5.2.6', 'Scratch Web Server',\n",
       "       'nginx/1.4.6 (Ubuntu)', 'marrakesh 1.12.2', 'nginx/0.8.35',\n",
       "       'squid/3.3.8', 'nginx/1.8.1', 'Nginx (OpenBSD)',\n",
       "       'Zope/(2.13.16; python 2.6.8; linux2) ZServer/1.1',\n",
       "       'Apache/2.2.26 (Unix) mod_ssl/2.2.26 OpenSSL/0.9.8e-fips-rhel5 mod_bwlimited/1.4 PHP/5.4.26',\n",
       "       'Apache/2.2.21 (Unix) mod_ssl/2.2.21 OpenSSL/0.9.8e-fips-rhel5 PHP/5.3.10',\n",
       "       'Apache/2.2.27 (Unix) OpenAM Web Agent/4.0.1-1 mod_ssl/2.2.27 OpenSSL/1.0.1p PHP/5.3.28',\n",
       "       'Apache/2.2.32',\n",
       "       'Apache/2.4.6 (Unix) mod_jk/1.2.37 PHP/5.5.1 OpenSSL/1.0.1g mod_fcgid/2.3.9',\n",
       "       'mw2106.codfw.wmnet', 'Microsoft-IIS/7.0',\n",
       "       'Aeria Games & Entertainment',\n",
       "       'Apache/2.4.10 (Debian) PHP/5.6.30-0+deb8u1 mod_perl/2.0.9dev Perl/v5.20.2',\n",
       "       'mw2173.codfw.wmnet',\n",
       "       'Apache/2.4.6 (Red Hat Enterprise Linux) OpenSSL/1.0.1e-fips mod_fcgid/2.3.9 Communique/4.2.0',\n",
       "       'Apache/2.2.15 (CentOS) DAV/2 mod_ssl/2.2.15 OpenSSL/1.0.1e-fips PHP/5.3.3',\n",
       "       'Apache/2.4.6 (CentOS) OpenSSL/1.0.1e-fips PHP/7.0.14', 'Server',\n",
       "       'Apache/2.4.6 (Unix) mod_jk/1.2.37', 'Cowboy',\n",
       "       'Apache/2.2.14 (Unix) mod_ssl/2.2.14 OpenSSL/0.9.8a',\n",
       "       'Apache/2.4.10 (Ubuntu)', 'mw2257.codfw.wmnet', 'DMS/1.0.42',\n",
       "       'Application-Server', 'mw2177.codfw.wmnet', 'lighttpd/1.4.28',\n",
       "       'mw2197.codfw.wmnet',\n",
       "       'Apache/2.2.31 (FreeBSD) PHP/5.4.15 mod_ssl/2.2.31 OpenSSL/1.0.2d DAV/2',\n",
       "       'Apache/2.2.26 (Unix) mod_ssl/2.2.26 OpenSSL/1.0.1e-fips DAV/2 mod_bwlimited/1.4',\n",
       "       '294', 'Microsoft-IIS/6.0', 'www.lexisnexis.com  9999',\n",
       "       'nginx/0.8.38', 'mw2238.codfw.wmnet', 'XXXXXXXXXXXXXXXXXXXXXX',\n",
       "       'Pizza/pepperoni', 'MI', 'Roxen/5.4.98-r2', 'nginx/1.10.1',\n",
       "       'mw2180.codfw.wmnet', 'nginx/1.9.13', 'nginx/1.7.12',\n",
       "       'Apache/2.0.63 (Unix) mod_ssl/2.0.63 OpenSSL/0.9.8e-fips-rhel5 mod_auth_passthrough/2.1 mod_bwlimited/1.4 PHP/5.3.6',\n",
       "       'Boston.com Frontend', 'My Arse',\n",
       "       'Apache/2.4.17 (Unix) OpenSSL/1.0.1e-fips PHP/5.6.19',\n",
       "       'Microsoft-IIS/7.5; litigation_essentials.lexisnexis.com  9999',\n",
       "       'Apache/2.2.16 (Debian)'], dtype=object)"
      ]
     },
     "execution_count": 47,
     "metadata": {},
     "output_type": "execute_result"
    }
   ],
   "source": [
    "# Your code here\n",
    "new_websites.SERVER.unique()\n",
    "\n"
   ]
  },
  {
   "cell_type": "code",
   "execution_count": 48,
   "metadata": {},
   "outputs": [],
   "source": [
    "new_websites.SERVER = new_websites.SERVER.str.lstrip()\n",
    "new_websites.SERVER = new_websites.SERVER.str.rstrip()\n",
    "new_websites.SERVER = new_websites.SERVER.str.strip()\n"
   ]
  },
  {
   "cell_type": "code",
   "execution_count": 49,
   "metadata": {},
   "outputs": [],
   "source": [
    "new_websites['SERVER'] = new_websites['SERVER'].astype(str)\n",
    "\n"
   ]
  },
  {
   "cell_type": "markdown",
   "metadata": {},
   "source": [
    "![Think Hard](../think-hard.jpg)"
   ]
  },
  {
   "cell_type": "markdown",
   "metadata": {},
   "source": [
    "Although there are so many unique values in the `SERVER` column, there are actually only 3 main server types: `Microsoft`, `Apache`, and `nginx`. Just check if each `SERVER` value contains any of those server types and re-label them. For `SERVER` values that don't contain any of those substrings, label with `Other`.\n",
    "\n",
    "At the end, your `SERVER` column should only contain 4 unique values: `Microsoft`, `Apache`, `nginx`, and `Other`."
   ]
  },
  {
   "cell_type": "code",
   "execution_count": 50,
   "metadata": {},
   "outputs": [],
   "source": [
    "# Your code here\n",
    "lista_corregida = []\n",
    "for ser in new_websites['SERVER']:\n",
    "    if 'Apache' in ser:\n",
    "        lista_corregida.append('Apache')\n",
    "    elif 'nginx' in ser:\n",
    "        lista_corregida.append('nginx')\n",
    "    elif 'Microsoft' in ser:\n",
    "        lista_corregida.append('Microsof')\n",
    "    elif 'None' in ser:\n",
    "        lista_corregida.append('other')\n",
    "    else:\n",
    "        lista_corregida.append('other')\n",
    "new_websites['SERVER'] = lista_corregida"
   ]
  },
  {
   "cell_type": "code",
   "execution_count": 51,
   "metadata": {
    "scrolled": false
   },
   "outputs": [
    {
     "data": {
      "text/plain": [
       "array(['nginx', 'Apache', 'Microsof', 'other'], dtype=object)"
      ]
     },
     "execution_count": 51,
     "metadata": {},
     "output_type": "execute_result"
    }
   ],
   "source": [
    "# Count `SERVER` value counts here\n",
    "new_websites.SERVER.unique()"
   ]
  },
  {
   "cell_type": "markdown",
   "metadata": {},
   "source": [
    "OK, all our categorical data are fixed now. **Let's convert them to ordinal data using Pandas' `get_dummies` function ([documentation](https://pandas.pydata.org/pandas-docs/stable/generated/pandas.get_dummies.html)).** Make sure you drop the categorical columns by passing `drop_first=True` to `get_dummies` as we don't need them any more. **Also, assign the data with dummy values to a new variable `website_dummy`.**"
   ]
  },
  {
   "cell_type": "code",
   "execution_count": 52,
   "metadata": {},
   "outputs": [],
   "source": [
    "#%pip install scikit-learn\n",
    "from sklearn.preprocessing import StandardScaler"
   ]
  },
  {
   "cell_type": "code",
   "execution_count": 53,
   "metadata": {},
   "outputs": [
    {
     "data": {
      "text/plain": [
       "(967, 17)"
      ]
     },
     "execution_count": 53,
     "metadata": {},
     "output_type": "execute_result"
    }
   ],
   "source": [
    "# Your codenew_websites here\n",
    "new_websites.shape"
   ]
  },
  {
   "cell_type": "code",
   "execution_count": 54,
   "metadata": {},
   "outputs": [
    {
     "data": {
      "text/html": [
       "<div>\n",
       "<style scoped>\n",
       "    .dataframe tbody tr th:only-of-type {\n",
       "        vertical-align: middle;\n",
       "    }\n",
       "\n",
       "    .dataframe tbody tr th {\n",
       "        vertical-align: top;\n",
       "    }\n",
       "\n",
       "    .dataframe thead th {\n",
       "        text-align: right;\n",
       "    }\n",
       "</style>\n",
       "<table border=\"1\" class=\"dataframe\">\n",
       "  <thead>\n",
       "    <tr style=\"text-align: right;\">\n",
       "      <th></th>\n",
       "      <th>URL_LENGTH</th>\n",
       "      <th>NUMBER_SPECIAL_CHARACTERS</th>\n",
       "      <th>CONTENT_LENGTH</th>\n",
       "      <th>TCP_CONVERSATION_EXCHANGE</th>\n",
       "      <th>DIST_REMOTE_TCP_PORT</th>\n",
       "      <th>REMOTE_IPS</th>\n",
       "      <th>APP_BYTES</th>\n",
       "      <th>SOURCE_APP_PACKETS</th>\n",
       "      <th>REMOTE_APP_PACKETS</th>\n",
       "      <th>SOURCE_APP_BYTES</th>\n",
       "      <th>...</th>\n",
       "      <th>WHOIS_COUNTRY_TR</th>\n",
       "      <th>WHOIS_COUNTRY_UA</th>\n",
       "      <th>WHOIS_COUNTRY_UG</th>\n",
       "      <th>WHOIS_COUNTRY_UK</th>\n",
       "      <th>WHOIS_COUNTRY_US</th>\n",
       "      <th>WHOIS_COUNTRY_UY</th>\n",
       "      <th>WHOIS_COUNTRY_United Kingdom</th>\n",
       "      <th>WHOIS_COUNTRY_[u'GB'; u'UK']</th>\n",
       "      <th>WHOIS_COUNTRY_se</th>\n",
       "      <th>WHOIS_COUNTRY_us</th>\n",
       "    </tr>\n",
       "  </thead>\n",
       "  <tbody>\n",
       "    <tr>\n",
       "      <th>0</th>\n",
       "      <td>16</td>\n",
       "      <td>7</td>\n",
       "      <td>263.0</td>\n",
       "      <td>7</td>\n",
       "      <td>0</td>\n",
       "      <td>2</td>\n",
       "      <td>700</td>\n",
       "      <td>9</td>\n",
       "      <td>10</td>\n",
       "      <td>1153</td>\n",
       "      <td>...</td>\n",
       "      <td>0</td>\n",
       "      <td>0</td>\n",
       "      <td>0</td>\n",
       "      <td>0</td>\n",
       "      <td>0</td>\n",
       "      <td>0</td>\n",
       "      <td>0</td>\n",
       "      <td>0</td>\n",
       "      <td>0</td>\n",
       "      <td>0</td>\n",
       "    </tr>\n",
       "    <tr>\n",
       "      <th>1</th>\n",
       "      <td>16</td>\n",
       "      <td>6</td>\n",
       "      <td>15087.0</td>\n",
       "      <td>17</td>\n",
       "      <td>7</td>\n",
       "      <td>4</td>\n",
       "      <td>1230</td>\n",
       "      <td>17</td>\n",
       "      <td>19</td>\n",
       "      <td>1265</td>\n",
       "      <td>...</td>\n",
       "      <td>0</td>\n",
       "      <td>0</td>\n",
       "      <td>0</td>\n",
       "      <td>0</td>\n",
       "      <td>0</td>\n",
       "      <td>0</td>\n",
       "      <td>0</td>\n",
       "      <td>0</td>\n",
       "      <td>0</td>\n",
       "      <td>0</td>\n",
       "    </tr>\n",
       "    <tr>\n",
       "      <th>2</th>\n",
       "      <td>16</td>\n",
       "      <td>6</td>\n",
       "      <td>324.0</td>\n",
       "      <td>0</td>\n",
       "      <td>0</td>\n",
       "      <td>0</td>\n",
       "      <td>0</td>\n",
       "      <td>0</td>\n",
       "      <td>0</td>\n",
       "      <td>0</td>\n",
       "      <td>...</td>\n",
       "      <td>0</td>\n",
       "      <td>0</td>\n",
       "      <td>0</td>\n",
       "      <td>0</td>\n",
       "      <td>0</td>\n",
       "      <td>0</td>\n",
       "      <td>0</td>\n",
       "      <td>0</td>\n",
       "      <td>0</td>\n",
       "      <td>0</td>\n",
       "    </tr>\n",
       "    <tr>\n",
       "      <th>3</th>\n",
       "      <td>17</td>\n",
       "      <td>6</td>\n",
       "      <td>162.0</td>\n",
       "      <td>31</td>\n",
       "      <td>22</td>\n",
       "      <td>3</td>\n",
       "      <td>3812</td>\n",
       "      <td>39</td>\n",
       "      <td>37</td>\n",
       "      <td>18784</td>\n",
       "      <td>...</td>\n",
       "      <td>0</td>\n",
       "      <td>0</td>\n",
       "      <td>0</td>\n",
       "      <td>0</td>\n",
       "      <td>1</td>\n",
       "      <td>0</td>\n",
       "      <td>0</td>\n",
       "      <td>0</td>\n",
       "      <td>0</td>\n",
       "      <td>0</td>\n",
       "    </tr>\n",
       "    <tr>\n",
       "      <th>4</th>\n",
       "      <td>17</td>\n",
       "      <td>6</td>\n",
       "      <td>124140.0</td>\n",
       "      <td>57</td>\n",
       "      <td>2</td>\n",
       "      <td>5</td>\n",
       "      <td>4278</td>\n",
       "      <td>61</td>\n",
       "      <td>62</td>\n",
       "      <td>129889</td>\n",
       "      <td>...</td>\n",
       "      <td>0</td>\n",
       "      <td>0</td>\n",
       "      <td>0</td>\n",
       "      <td>0</td>\n",
       "      <td>1</td>\n",
       "      <td>0</td>\n",
       "      <td>0</td>\n",
       "      <td>0</td>\n",
       "      <td>0</td>\n",
       "      <td>0</td>\n",
       "    </tr>\n",
       "  </tbody>\n",
       "</table>\n",
       "<p>5 rows × 68 columns</p>\n",
       "</div>"
      ],
      "text/plain": [
       "   URL_LENGTH  NUMBER_SPECIAL_CHARACTERS  CONTENT_LENGTH  \\\n",
       "0          16                          7           263.0   \n",
       "1          16                          6         15087.0   \n",
       "2          16                          6           324.0   \n",
       "3          17                          6           162.0   \n",
       "4          17                          6        124140.0   \n",
       "\n",
       "   TCP_CONVERSATION_EXCHANGE  DIST_REMOTE_TCP_PORT  REMOTE_IPS  APP_BYTES  \\\n",
       "0                          7                     0           2        700   \n",
       "1                         17                     7           4       1230   \n",
       "2                          0                     0           0          0   \n",
       "3                         31                    22           3       3812   \n",
       "4                         57                     2           5       4278   \n",
       "\n",
       "   SOURCE_APP_PACKETS  REMOTE_APP_PACKETS  SOURCE_APP_BYTES  ...  \\\n",
       "0                   9                  10              1153  ...   \n",
       "1                  17                  19              1265  ...   \n",
       "2                   0                   0                 0  ...   \n",
       "3                  39                  37             18784  ...   \n",
       "4                  61                  62            129889  ...   \n",
       "\n",
       "   WHOIS_COUNTRY_TR  WHOIS_COUNTRY_UA  WHOIS_COUNTRY_UG  WHOIS_COUNTRY_UK  \\\n",
       "0                 0                 0                 0                 0   \n",
       "1                 0                 0                 0                 0   \n",
       "2                 0                 0                 0                 0   \n",
       "3                 0                 0                 0                 0   \n",
       "4                 0                 0                 0                 0   \n",
       "\n",
       "   WHOIS_COUNTRY_US  WHOIS_COUNTRY_UY  WHOIS_COUNTRY_United Kingdom  \\\n",
       "0                 0                 0                             0   \n",
       "1                 0                 0                             0   \n",
       "2                 0                 0                             0   \n",
       "3                 1                 0                             0   \n",
       "4                 1                 0                             0   \n",
       "\n",
       "   WHOIS_COUNTRY_[u'GB'; u'UK']  WHOIS_COUNTRY_se  WHOIS_COUNTRY_us  \n",
       "0                             0                 0                 0  \n",
       "1                             0                 0                 0  \n",
       "2                             0                 0                 0  \n",
       "3                             0                 0                 0  \n",
       "4                             0                 0                 0  \n",
       "\n",
       "[5 rows x 68 columns]"
      ]
     },
     "execution_count": 54,
     "metadata": {},
     "output_type": "execute_result"
    }
   ],
   "source": [
    "\n",
    "\n",
    "new_websites= pd.get_dummies(new_websites, columns=['SERVER', 'CHARSET', 'WHOIS_COUNTRY'])   # drop_first=True, por defecto es False \n",
    "\n",
    "new_websites.head()\n"
   ]
  },
  {
   "cell_type": "code",
   "execution_count": 55,
   "metadata": {},
   "outputs": [
    {
     "data": {
      "text/html": [
       "<div>\n",
       "<style scoped>\n",
       "    .dataframe tbody tr th:only-of-type {\n",
       "        vertical-align: middle;\n",
       "    }\n",
       "\n",
       "    .dataframe tbody tr th {\n",
       "        vertical-align: top;\n",
       "    }\n",
       "\n",
       "    .dataframe thead th {\n",
       "        text-align: right;\n",
       "    }\n",
       "</style>\n",
       "<table border=\"1\" class=\"dataframe\">\n",
       "  <thead>\n",
       "    <tr style=\"text-align: right;\">\n",
       "      <th></th>\n",
       "      <th>URL_LENGTH</th>\n",
       "      <th>NUMBER_SPECIAL_CHARACTERS</th>\n",
       "      <th>CONTENT_LENGTH</th>\n",
       "      <th>TCP_CONVERSATION_EXCHANGE</th>\n",
       "      <th>DIST_REMOTE_TCP_PORT</th>\n",
       "      <th>REMOTE_IPS</th>\n",
       "      <th>APP_BYTES</th>\n",
       "      <th>SOURCE_APP_PACKETS</th>\n",
       "      <th>REMOTE_APP_PACKETS</th>\n",
       "      <th>SOURCE_APP_BYTES</th>\n",
       "      <th>...</th>\n",
       "      <th>WHOIS_COUNTRY_TR</th>\n",
       "      <th>WHOIS_COUNTRY_UA</th>\n",
       "      <th>WHOIS_COUNTRY_UG</th>\n",
       "      <th>WHOIS_COUNTRY_UK</th>\n",
       "      <th>WHOIS_COUNTRY_US</th>\n",
       "      <th>WHOIS_COUNTRY_UY</th>\n",
       "      <th>WHOIS_COUNTRY_United Kingdom</th>\n",
       "      <th>WHOIS_COUNTRY_[u'GB'; u'UK']</th>\n",
       "      <th>WHOIS_COUNTRY_se</th>\n",
       "      <th>WHOIS_COUNTRY_us</th>\n",
       "    </tr>\n",
       "  </thead>\n",
       "  <tbody>\n",
       "    <tr>\n",
       "      <th>0</th>\n",
       "      <td>16</td>\n",
       "      <td>7</td>\n",
       "      <td>263.0</td>\n",
       "      <td>7</td>\n",
       "      <td>0</td>\n",
       "      <td>2</td>\n",
       "      <td>700</td>\n",
       "      <td>9</td>\n",
       "      <td>10</td>\n",
       "      <td>1153</td>\n",
       "      <td>...</td>\n",
       "      <td>0</td>\n",
       "      <td>0</td>\n",
       "      <td>0</td>\n",
       "      <td>0</td>\n",
       "      <td>0</td>\n",
       "      <td>0</td>\n",
       "      <td>0</td>\n",
       "      <td>0</td>\n",
       "      <td>0</td>\n",
       "      <td>0</td>\n",
       "    </tr>\n",
       "    <tr>\n",
       "      <th>1</th>\n",
       "      <td>16</td>\n",
       "      <td>6</td>\n",
       "      <td>15087.0</td>\n",
       "      <td>17</td>\n",
       "      <td>7</td>\n",
       "      <td>4</td>\n",
       "      <td>1230</td>\n",
       "      <td>17</td>\n",
       "      <td>19</td>\n",
       "      <td>1265</td>\n",
       "      <td>...</td>\n",
       "      <td>0</td>\n",
       "      <td>0</td>\n",
       "      <td>0</td>\n",
       "      <td>0</td>\n",
       "      <td>0</td>\n",
       "      <td>0</td>\n",
       "      <td>0</td>\n",
       "      <td>0</td>\n",
       "      <td>0</td>\n",
       "      <td>0</td>\n",
       "    </tr>\n",
       "    <tr>\n",
       "      <th>2</th>\n",
       "      <td>16</td>\n",
       "      <td>6</td>\n",
       "      <td>324.0</td>\n",
       "      <td>0</td>\n",
       "      <td>0</td>\n",
       "      <td>0</td>\n",
       "      <td>0</td>\n",
       "      <td>0</td>\n",
       "      <td>0</td>\n",
       "      <td>0</td>\n",
       "      <td>...</td>\n",
       "      <td>0</td>\n",
       "      <td>0</td>\n",
       "      <td>0</td>\n",
       "      <td>0</td>\n",
       "      <td>0</td>\n",
       "      <td>0</td>\n",
       "      <td>0</td>\n",
       "      <td>0</td>\n",
       "      <td>0</td>\n",
       "      <td>0</td>\n",
       "    </tr>\n",
       "    <tr>\n",
       "      <th>3</th>\n",
       "      <td>17</td>\n",
       "      <td>6</td>\n",
       "      <td>162.0</td>\n",
       "      <td>31</td>\n",
       "      <td>22</td>\n",
       "      <td>3</td>\n",
       "      <td>3812</td>\n",
       "      <td>39</td>\n",
       "      <td>37</td>\n",
       "      <td>18784</td>\n",
       "      <td>...</td>\n",
       "      <td>0</td>\n",
       "      <td>0</td>\n",
       "      <td>0</td>\n",
       "      <td>0</td>\n",
       "      <td>1</td>\n",
       "      <td>0</td>\n",
       "      <td>0</td>\n",
       "      <td>0</td>\n",
       "      <td>0</td>\n",
       "      <td>0</td>\n",
       "    </tr>\n",
       "    <tr>\n",
       "      <th>4</th>\n",
       "      <td>17</td>\n",
       "      <td>6</td>\n",
       "      <td>124140.0</td>\n",
       "      <td>57</td>\n",
       "      <td>2</td>\n",
       "      <td>5</td>\n",
       "      <td>4278</td>\n",
       "      <td>61</td>\n",
       "      <td>62</td>\n",
       "      <td>129889</td>\n",
       "      <td>...</td>\n",
       "      <td>0</td>\n",
       "      <td>0</td>\n",
       "      <td>0</td>\n",
       "      <td>0</td>\n",
       "      <td>1</td>\n",
       "      <td>0</td>\n",
       "      <td>0</td>\n",
       "      <td>0</td>\n",
       "      <td>0</td>\n",
       "      <td>0</td>\n",
       "    </tr>\n",
       "  </tbody>\n",
       "</table>\n",
       "<p>5 rows × 67 columns</p>\n",
       "</div>"
      ],
      "text/plain": [
       "   URL_LENGTH  NUMBER_SPECIAL_CHARACTERS  CONTENT_LENGTH  \\\n",
       "0          16                          7           263.0   \n",
       "1          16                          6         15087.0   \n",
       "2          16                          6           324.0   \n",
       "3          17                          6           162.0   \n",
       "4          17                          6        124140.0   \n",
       "\n",
       "   TCP_CONVERSATION_EXCHANGE  DIST_REMOTE_TCP_PORT  REMOTE_IPS  APP_BYTES  \\\n",
       "0                          7                     0           2        700   \n",
       "1                         17                     7           4       1230   \n",
       "2                          0                     0           0          0   \n",
       "3                         31                    22           3       3812   \n",
       "4                         57                     2           5       4278   \n",
       "\n",
       "   SOURCE_APP_PACKETS  REMOTE_APP_PACKETS  SOURCE_APP_BYTES  ...  \\\n",
       "0                   9                  10              1153  ...   \n",
       "1                  17                  19              1265  ...   \n",
       "2                   0                   0                 0  ...   \n",
       "3                  39                  37             18784  ...   \n",
       "4                  61                  62            129889  ...   \n",
       "\n",
       "   WHOIS_COUNTRY_TR  WHOIS_COUNTRY_UA  WHOIS_COUNTRY_UG  WHOIS_COUNTRY_UK  \\\n",
       "0                 0                 0                 0                 0   \n",
       "1                 0                 0                 0                 0   \n",
       "2                 0                 0                 0                 0   \n",
       "3                 0                 0                 0                 0   \n",
       "4                 0                 0                 0                 0   \n",
       "\n",
       "   WHOIS_COUNTRY_US  WHOIS_COUNTRY_UY  WHOIS_COUNTRY_United Kingdom  \\\n",
       "0                 0                 0                             0   \n",
       "1                 0                 0                             0   \n",
       "2                 0                 0                             0   \n",
       "3                 1                 0                             0   \n",
       "4                 1                 0                             0   \n",
       "\n",
       "   WHOIS_COUNTRY_[u'GB'; u'UK']  WHOIS_COUNTRY_se  WHOIS_COUNTRY_us  \n",
       "0                             0                 0                 0  \n",
       "1                             0                 0                 0  \n",
       "2                             0                 0                 0  \n",
       "3                             0                 0                 0  \n",
       "4                             0                 0                 0  \n",
       "\n",
       "[5 rows x 67 columns]"
      ]
     },
     "execution_count": 55,
     "metadata": {},
     "output_type": "execute_result"
    }
   ],
   "source": [
    "X = new_websites.drop(['Type'], axis=1) # no entiendo por que narices crea tantas columnas si habia limpiado las listas de paises a 10\n",
    "\n",
    "y = new_websites.Type\n",
    "\n",
    "X.head()"
   ]
  },
  {
   "cell_type": "code",
   "execution_count": 56,
   "metadata": {},
   "outputs": [
    {
     "data": {
      "text/plain": [
       "(967, 67)"
      ]
     },
     "execution_count": 56,
     "metadata": {},
     "output_type": "execute_result"
    }
   ],
   "source": [
    "X.shape"
   ]
  },
  {
   "cell_type": "markdown",
   "metadata": {},
   "source": [
    "Now, inspect `website_dummy` to make sure the data and types are intended - there shouldn't be any categorical columns at this point."
   ]
  },
  {
   "cell_type": "code",
   "execution_count": 57,
   "metadata": {},
   "outputs": [
    {
     "name": "stdout",
     "output_type": "stream",
     "text": [
      "<class 'pandas.core.frame.DataFrame'>\n",
      "Int64Index: 967 entries, 0 to 1780\n",
      "Data columns (total 67 columns):\n",
      " #   Column                        Non-Null Count  Dtype  \n",
      "---  ------                        --------------  -----  \n",
      " 0   URL_LENGTH                    967 non-null    int64  \n",
      " 1   NUMBER_SPECIAL_CHARACTERS     967 non-null    int64  \n",
      " 2   CONTENT_LENGTH                967 non-null    float64\n",
      " 3   TCP_CONVERSATION_EXCHANGE     967 non-null    int64  \n",
      " 4   DIST_REMOTE_TCP_PORT          967 non-null    int64  \n",
      " 5   REMOTE_IPS                    967 non-null    int64  \n",
      " 6   APP_BYTES                     967 non-null    int64  \n",
      " 7   SOURCE_APP_PACKETS            967 non-null    int64  \n",
      " 8   REMOTE_APP_PACKETS            967 non-null    int64  \n",
      " 9   SOURCE_APP_BYTES              967 non-null    int64  \n",
      " 10  REMOTE_APP_BYTES              967 non-null    int64  \n",
      " 11  APP_PACKETS                   967 non-null    int64  \n",
      " 12  DNS_QUERY_TIMES               967 non-null    float64\n",
      " 13  SERVER_Apache                 967 non-null    uint8  \n",
      " 14  SERVER_Microsof               967 non-null    uint8  \n",
      " 15  SERVER_nginx                  967 non-null    uint8  \n",
      " 16  SERVER_other                  967 non-null    uint8  \n",
      " 17  CHARSET_ISO-8859              967 non-null    uint8  \n",
      " 18  CHARSET_ISO-8859-1            967 non-null    uint8  \n",
      " 19  CHARSET_None                  967 non-null    uint8  \n",
      " 20  CHARSET_UTF-8                 967 non-null    uint8  \n",
      " 21  CHARSET_iso-8859-1            967 non-null    uint8  \n",
      " 22  CHARSET_us-ascii              967 non-null    uint8  \n",
      " 23  CHARSET_utf-8                 967 non-null    uint8  \n",
      " 24  CHARSET_windows-1251          967 non-null    uint8  \n",
      " 25  WHOIS_COUNTRY_AE              967 non-null    uint8  \n",
      " 26  WHOIS_COUNTRY_AT              967 non-null    uint8  \n",
      " 27  WHOIS_COUNTRY_AU              967 non-null    uint8  \n",
      " 28  WHOIS_COUNTRY_BE              967 non-null    uint8  \n",
      " 29  WHOIS_COUNTRY_BR              967 non-null    uint8  \n",
      " 30  WHOIS_COUNTRY_BS              967 non-null    uint8  \n",
      " 31  WHOIS_COUNTRY_BY              967 non-null    uint8  \n",
      " 32  WHOIS_COUNTRY_CA              967 non-null    uint8  \n",
      " 33  WHOIS_COUNTRY_CH              967 non-null    uint8  \n",
      " 34  WHOIS_COUNTRY_CN              967 non-null    uint8  \n",
      " 35  WHOIS_COUNTRY_CZ              967 non-null    uint8  \n",
      " 36  WHOIS_COUNTRY_Cyprus          967 non-null    uint8  \n",
      " 37  WHOIS_COUNTRY_DE              967 non-null    uint8  \n",
      " 38  WHOIS_COUNTRY_FR              967 non-null    uint8  \n",
      " 39  WHOIS_COUNTRY_GB              967 non-null    uint8  \n",
      " 40  WHOIS_COUNTRY_HK              967 non-null    uint8  \n",
      " 41  WHOIS_COUNTRY_IE              967 non-null    uint8  \n",
      " 42  WHOIS_COUNTRY_IL              967 non-null    uint8  \n",
      " 43  WHOIS_COUNTRY_IN              967 non-null    uint8  \n",
      " 44  WHOIS_COUNTRY_IT              967 non-null    uint8  \n",
      " 45  WHOIS_COUNTRY_JP              967 non-null    uint8  \n",
      " 46  WHOIS_COUNTRY_KR              967 non-null    uint8  \n",
      " 47  WHOIS_COUNTRY_KY              967 non-null    uint8  \n",
      " 48  WHOIS_COUNTRY_NL              967 non-null    uint8  \n",
      " 49  WHOIS_COUNTRY_NO              967 non-null    uint8  \n",
      " 50  WHOIS_COUNTRY_None            967 non-null    uint8  \n",
      " 51  WHOIS_COUNTRY_PA              967 non-null    uint8  \n",
      " 52  WHOIS_COUNTRY_PH              967 non-null    uint8  \n",
      " 53  WHOIS_COUNTRY_RU              967 non-null    uint8  \n",
      " 54  WHOIS_COUNTRY_SC              967 non-null    uint8  \n",
      " 55  WHOIS_COUNTRY_SE              967 non-null    uint8  \n",
      " 56  WHOIS_COUNTRY_SI              967 non-null    uint8  \n",
      " 57  WHOIS_COUNTRY_TR              967 non-null    uint8  \n",
      " 58  WHOIS_COUNTRY_UA              967 non-null    uint8  \n",
      " 59  WHOIS_COUNTRY_UG              967 non-null    uint8  \n",
      " 60  WHOIS_COUNTRY_UK              967 non-null    uint8  \n",
      " 61  WHOIS_COUNTRY_US              967 non-null    uint8  \n",
      " 62  WHOIS_COUNTRY_UY              967 non-null    uint8  \n",
      " 63  WHOIS_COUNTRY_United Kingdom  967 non-null    uint8  \n",
      " 64  WHOIS_COUNTRY_[u'GB'; u'UK']  967 non-null    uint8  \n",
      " 65  WHOIS_COUNTRY_se              967 non-null    uint8  \n",
      " 66  WHOIS_COUNTRY_us              967 non-null    uint8  \n",
      "dtypes: float64(2), int64(11), uint8(54)\n",
      "memory usage: 189.0 KB\n"
     ]
    }
   ],
   "source": [
    "# Your code here\n",
    "\n",
    "X.info()\n",
    "\n"
   ]
  },
  {
   "cell_type": "markdown",
   "metadata": {},
   "source": [
    "# Challenge 6 - Modeling, Prediction, and Evaluation\n",
    "\n",
    "We'll start off this section by splitting the data to train and test. **Name your 4 variables `X_train`, `X_test`, `y_train`, and `y_test`. Select 80% of the data for training and 20% for testing.**"
   ]
  },
  {
   "cell_type": "code",
   "execution_count": 58,
   "metadata": {},
   "outputs": [
    {
     "data": {
      "text/plain": [
       "((967, 67), (967,))"
      ]
     },
     "execution_count": 58,
     "metadata": {},
     "output_type": "execute_result"
    }
   ],
   "source": [
    "from sklearn.model_selection import train_test_split\n",
    "#%pip install scikit-learn\n",
    "from sklearn.preprocessing import StandardScaler\n",
    "\n",
    "# Your code here:\n",
    "\n",
    "X.shape, y.shape\n"
   ]
  },
  {
   "cell_type": "code",
   "execution_count": 59,
   "metadata": {},
   "outputs": [
    {
     "data": {
      "text/plain": [
       "((773, 67), (194, 67), (773,), (194,))"
      ]
     },
     "execution_count": 59,
     "metadata": {},
     "output_type": "execute_result"
    }
   ],
   "source": [
    "from sklearn.model_selection import train_test_split as tts # el alias es cosa mia\n",
    "\n",
    "X_train, X_test, y_train, y_test = tts(X, y, train_size=0.8, test_size=0.2, random_state=22)\n",
    "\n",
    "X_train.shape, X_test.shape, y_train.shape, y_test.shape"
   ]
  },
  {
   "cell_type": "markdown",
   "metadata": {},
   "source": [
    "#### In this lab, we will try two different models and compare our results.\n",
    "\n",
    "The first model we will use in this lab is logistic regression. We have previously learned about logistic regression as a classification algorithm. In the cell below, load `LogisticRegression` from scikit-learn and initialize the model."
   ]
  },
  {
   "cell_type": "code",
   "execution_count": 71,
   "metadata": {},
   "outputs": [],
   "source": [
    "# Your code here:\n",
    "from sklearn.linear_model import LogisticRegression            # logistic regression model   \n",
    "\n",
    "logreg=LogisticRegression(max_iter=2000)\n",
    "\n"
   ]
  },
  {
   "cell_type": "markdown",
   "metadata": {},
   "source": [
    "Next, fit the model to our training data. We have already separated our data into 4 parts. Use those in your model."
   ]
  },
  {
   "cell_type": "code",
   "execution_count": 77,
   "metadata": {},
   "outputs": [
    {
     "name": "stderr",
     "output_type": "stream",
     "text": [
      "/Library/Frameworks/Python.framework/Versions/3.10/lib/python3.10/site-packages/sklearn/linear_model/_logistic.py:444: ConvergenceWarning: lbfgs failed to converge (status=1):\n",
      "STOP: TOTAL NO. of ITERATIONS REACHED LIMIT.\n",
      "\n",
      "Increase the number of iterations (max_iter) or scale the data as shown in:\n",
      "    https://scikit-learn.org/stable/modules/preprocessing.html\n",
      "Please also refer to the documentation for alternative solver options:\n",
      "    https://scikit-learn.org/stable/modules/linear_model.html#logistic-regression\n",
      "  n_iter_i = _check_optimize_result(\n"
     ]
    },
    {
     "data": {
      "text/html": [
       "<style>#sk-container-id-3 {color: black;background-color: white;}#sk-container-id-3 pre{padding: 0;}#sk-container-id-3 div.sk-toggleable {background-color: white;}#sk-container-id-3 label.sk-toggleable__label {cursor: pointer;display: block;width: 100%;margin-bottom: 0;padding: 0.3em;box-sizing: border-box;text-align: center;}#sk-container-id-3 label.sk-toggleable__label-arrow:before {content: \"▸\";float: left;margin-right: 0.25em;color: #696969;}#sk-container-id-3 label.sk-toggleable__label-arrow:hover:before {color: black;}#sk-container-id-3 div.sk-estimator:hover label.sk-toggleable__label-arrow:before {color: black;}#sk-container-id-3 div.sk-toggleable__content {max-height: 0;max-width: 0;overflow: hidden;text-align: left;background-color: #f0f8ff;}#sk-container-id-3 div.sk-toggleable__content pre {margin: 0.2em;color: black;border-radius: 0.25em;background-color: #f0f8ff;}#sk-container-id-3 input.sk-toggleable__control:checked~div.sk-toggleable__content {max-height: 200px;max-width: 100%;overflow: auto;}#sk-container-id-3 input.sk-toggleable__control:checked~label.sk-toggleable__label-arrow:before {content: \"▾\";}#sk-container-id-3 div.sk-estimator input.sk-toggleable__control:checked~label.sk-toggleable__label {background-color: #d4ebff;}#sk-container-id-3 div.sk-label input.sk-toggleable__control:checked~label.sk-toggleable__label {background-color: #d4ebff;}#sk-container-id-3 input.sk-hidden--visually {border: 0;clip: rect(1px 1px 1px 1px);clip: rect(1px, 1px, 1px, 1px);height: 1px;margin: -1px;overflow: hidden;padding: 0;position: absolute;width: 1px;}#sk-container-id-3 div.sk-estimator {font-family: monospace;background-color: #f0f8ff;border: 1px dotted black;border-radius: 0.25em;box-sizing: border-box;margin-bottom: 0.5em;}#sk-container-id-3 div.sk-estimator:hover {background-color: #d4ebff;}#sk-container-id-3 div.sk-parallel-item::after {content: \"\";width: 100%;border-bottom: 1px solid gray;flex-grow: 1;}#sk-container-id-3 div.sk-label:hover label.sk-toggleable__label {background-color: #d4ebff;}#sk-container-id-3 div.sk-serial::before {content: \"\";position: absolute;border-left: 1px solid gray;box-sizing: border-box;top: 0;bottom: 0;left: 50%;z-index: 0;}#sk-container-id-3 div.sk-serial {display: flex;flex-direction: column;align-items: center;background-color: white;padding-right: 0.2em;padding-left: 0.2em;position: relative;}#sk-container-id-3 div.sk-item {position: relative;z-index: 1;}#sk-container-id-3 div.sk-parallel {display: flex;align-items: stretch;justify-content: center;background-color: white;position: relative;}#sk-container-id-3 div.sk-item::before, #sk-container-id-3 div.sk-parallel-item::before {content: \"\";position: absolute;border-left: 1px solid gray;box-sizing: border-box;top: 0;bottom: 0;left: 50%;z-index: -1;}#sk-container-id-3 div.sk-parallel-item {display: flex;flex-direction: column;z-index: 1;position: relative;background-color: white;}#sk-container-id-3 div.sk-parallel-item:first-child::after {align-self: flex-end;width: 50%;}#sk-container-id-3 div.sk-parallel-item:last-child::after {align-self: flex-start;width: 50%;}#sk-container-id-3 div.sk-parallel-item:only-child::after {width: 0;}#sk-container-id-3 div.sk-dashed-wrapped {border: 1px dashed gray;margin: 0 0.4em 0.5em 0.4em;box-sizing: border-box;padding-bottom: 0.4em;background-color: white;}#sk-container-id-3 div.sk-label label {font-family: monospace;font-weight: bold;display: inline-block;line-height: 1.2em;}#sk-container-id-3 div.sk-label-container {text-align: center;}#sk-container-id-3 div.sk-container {/* jupyter's `normalize.less` sets `[hidden] { display: none; }` but bootstrap.min.css set `[hidden] { display: none !important; }` so we also need the `!important` here to be able to override the default hidden behavior on the sphinx rendered scikit-learn.org. See: https://github.com/scikit-learn/scikit-learn/issues/21755 */display: inline-block !important;position: relative;}#sk-container-id-3 div.sk-text-repr-fallback {display: none;}</style><div id=\"sk-container-id-3\" class=\"sk-top-container\"><div class=\"sk-text-repr-fallback\"><pre>LogisticRegression(max_iter=2000)</pre><b>In a Jupyter environment, please rerun this cell to show the HTML representation or trust the notebook. <br />On GitHub, the HTML representation is unable to render, please try loading this page with nbviewer.org.</b></div><div class=\"sk-container\" hidden><div class=\"sk-item\"><div class=\"sk-estimator sk-toggleable\"><input class=\"sk-toggleable__control sk-hidden--visually\" id=\"sk-estimator-id-3\" type=\"checkbox\" checked><label for=\"sk-estimator-id-3\" class=\"sk-toggleable__label sk-toggleable__label-arrow\">LogisticRegression</label><div class=\"sk-toggleable__content\"><pre>LogisticRegression(max_iter=2000)</pre></div></div></div></div></div>"
      ],
      "text/plain": [
       "LogisticRegression(max_iter=2000)"
      ]
     },
     "execution_count": 77,
     "metadata": {},
     "output_type": "execute_result"
    }
   ],
   "source": [
    "# Your code here:\n",
    "logreg.fit(X_train, y_train) # no sale por valores nulos de las narices y he dropeado y  limpado\n",
    "\n"
   ]
  },
  {
   "cell_type": "code",
   "execution_count": 78,
   "metadata": {},
   "outputs": [
    {
     "data": {
      "text/plain": [
       "array([0, 0, 0, 0, 0, 0, 0, 0, 1, 1])"
      ]
     },
     "execution_count": 78,
     "metadata": {},
     "output_type": "execute_result"
    }
   ],
   "source": [
    "y_pred=logreg.predict(X_test)\n",
    "\n",
    "y_pred[:10]"
   ]
  },
  {
   "cell_type": "code",
   "execution_count": 79,
   "metadata": {},
   "outputs": [
    {
     "data": {
      "text/plain": [
       "array([[0.97203554, 0.02796446],\n",
       "       [0.9689841 , 0.0310159 ],\n",
       "       [0.7366595 , 0.2633405 ],\n",
       "       [0.99289809, 0.00710191],\n",
       "       [0.5146482 , 0.4853518 ],\n",
       "       [0.96074861, 0.03925139],\n",
       "       [0.97301242, 0.02698758],\n",
       "       [0.98387185, 0.01612815],\n",
       "       [0.37891559, 0.62108441],\n",
       "       [0.04325242, 0.95674758]])"
      ]
     },
     "execution_count": 79,
     "metadata": {},
     "output_type": "execute_result"
    }
   ],
   "source": [
    "y_prob=logreg.predict_proba(X_test)\n",
    "\n",
    "y_prob[:10]"
   ]
  },
  {
   "cell_type": "code",
   "execution_count": 80,
   "metadata": {},
   "outputs": [
    {
     "data": {
      "text/plain": [
       "94.84536082474226"
      ]
     },
     "execution_count": 80,
     "metadata": {},
     "output_type": "execute_result"
    }
   ],
   "source": [
    "sum(y_pred==y_test)/y_pred.shape[0] * 100   # acierto, accuracy\n"
   ]
  },
  {
   "cell_type": "markdown",
   "metadata": {},
   "source": [
    "finally, import `confusion_matrix` and `accuracy_score` from `sklearn.metrics` and fit our testing data. Assign the fitted data to `y_pred` and print the confusion matrix as well as the accuracy score"
   ]
  },
  {
   "cell_type": "code",
   "execution_count": 83,
   "metadata": {},
   "outputs": [
    {
     "data": {
      "text/plain": [
       "array([[167,   3],\n",
       "       [  7,  17]])"
      ]
     },
     "execution_count": 83,
     "metadata": {},
     "output_type": "execute_result"
    }
   ],
   "source": [
    "#??????\n",
    "from sklearn.metrics import confusion_matrix as cm\n",
    "import matplotlib.pyplot as plt\n",
    "%matplotlib inline\n",
    "import seaborn as sns\n",
    "\n",
    "cm(y_test, y_pred)"
   ]
  },
  {
   "cell_type": "code",
   "execution_count": 85,
   "metadata": {},
   "outputs": [
    {
     "data": {
      "image/png": "[encoded data removed]",
      "text/plain": [
       "<Figure size 1080x576 with 2 Axes>"
      ]
     },
     "metadata": {
      "needs_background": "light"
     },
     "output_type": "display_data"
    }
   ],
   "source": [
    "plt.figure(figsize=(15, 8))\n",
    "\n",
    "ax=sns.heatmap(cm(y_test, y_pred)/sum(sum(cm(y_test, y_pred))), annot=True)\n",
    "\n",
    "plt.title('Matriz confusion')\n",
    "plt.ylabel('Verdad')\n",
    "plt.xlabel('Prediccion')\n",
    "plt.show();"
   ]
  },
  {
   "cell_type": "markdown",
   "metadata": {},
   "source": [
    "What are your thoughts on the performance of the model? Write your conclusions below."
   ]
  },
  {
   "cell_type": "code",
   "execution_count": 65,
   "metadata": {},
   "outputs": [],
   "source": [
    "# Your conclusions here:\n",
    "\n",
    "# noo me queda muy claro, es posible que la prediccion 1 a 1 se efectiva,  y la 0 1  sea una prediccion con algo de verdad. "
   ]
  },
  {
   "cell_type": "markdown",
   "metadata": {},
   "source": [
    "#### Our second algorithm is is DecisionTreeClassifier\n",
    "\n",
    "Though is it not required, we will fit a model using the training data and then test the performance of the model using the testing data. Start by loading `DecisionTreeClassifier` from scikit-learn and then initializing and fitting the model. We'll start off with a model where max_depth=3"
   ]
  },
  {
   "cell_type": "code",
   "execution_count": 66,
   "metadata": {},
   "outputs": [],
   "source": [
    "# Your code here:\n",
    "\n"
   ]
  },
  {
   "cell_type": "markdown",
   "metadata": {},
   "source": [
    "To test your model, compute the predicted probabilities, decide 0 or 1 using a threshold of 0.5 and print the confusion matrix as well as the accuracy score (on the test set!)"
   ]
  },
  {
   "cell_type": "code",
   "execution_count": 67,
   "metadata": {},
   "outputs": [],
   "source": [
    "# Your code here:\n",
    "\n"
   ]
  },
  {
   "cell_type": "markdown",
   "metadata": {},
   "source": [
    "#### We'll create another DecisionTreeClassifier model with max_depth=5. \n",
    "Initialize and fit the model below and print the confusion matrix and the accuracy score."
   ]
  },
  {
   "cell_type": "code",
   "execution_count": 68,
   "metadata": {},
   "outputs": [],
   "source": [
    "# Your code here:\n",
    "\n"
   ]
  },
  {
   "cell_type": "markdown",
   "metadata": {},
   "source": [
    "Did you see an improvement in the confusion matrix when increasing max_depth to 5? Did you see an improvement in the accuracy score? Write your conclusions below."
   ]
  },
  {
   "cell_type": "code",
   "execution_count": 69,
   "metadata": {},
   "outputs": [],
   "source": [
    "# Your conclusions here:\n",
    "\n"
   ]
  },
  {
   "cell_type": "markdown",
   "metadata": {},
   "source": [
    "# Bonus Challenge - Feature Scaling\n",
    "\n",
    "Problem-solving in machine learning is iterative. You can improve your model prediction with various techniques (there is a sweetspot for the time you spend and the improvement you receive though). Now you've completed only one iteration of ML analysis. There are more iterations you can conduct to make improvements. In order to be able to do that, you will need deeper knowledge in statistics and master more data analysis techniques. In this bootcamp, we don't have time to achieve that advanced goal. But you will make constant efforts after the bootcamp to eventually get there.\n",
    "\n",
    "However, now we do want you to learn one of the advanced techniques which is called *feature scaling*. The idea of feature scaling is to standardize/normalize the range of independent variables or features of the data. This can make the outliers more apparent so that you can remove them. This step needs to happen during Challenge 6 after you split the training and test data because you don't want to split the data again which makes it impossible to compare your results with and without feature scaling. For general concepts about feature scaling, click [here](https://en.wikipedia.org/wiki/Feature_scaling). To read deeper, click [here](https://medium.com/greyatom/why-how-and-when-to-scale-your-features-4b30ab09db5e).\n",
    "\n",
    "In the next cell, attempt to improve your model prediction accuracy by means of feature scaling. A library you can utilize is `sklearn.preprocessing.RobustScaler` ([documentation](https://scikit-learn.org/stable/modules/generated/sklearn.preprocessing.RobustScaler.html)). You'll use the `RobustScaler` to fit and transform your `X_train`, then transform `X_test`. You will use logistic regression to fit and predict your transformed data and obtain the accuracy score in the same way. Compare the accuracy score with your normalized data with the previous accuracy data. Is there an improvement?"
   ]
  },
  {
   "cell_type": "code",
   "execution_count": 70,
   "metadata": {},
   "outputs": [],
   "source": [
    "# Your code here"
   ]
  }
 ],
 "metadata": {
  "kernelspec": {
   "display_name": "Python 3.10.5 64-bit",
   "language": "python",
   "name": "python3"
  },
  "language_info": {
   "codemirror_mode": {
    "name": "ipython",
    "version": 3
   },
   "file_extension": ".py",
   "mimetype": "text/x-python",
   "name": "python",
   "nbconvert_exporter": "python",
   "pygments_lexer": "ipython3",
   "version": "3.10.5"
  },
  "toc": {
   "base_numbering": 1,
   "nav_menu": {},
   "number_sections": true,
   "sideBar": true,
   "skip_h1_title": false,
   "title_cell": "Table of Contents",
   "title_sidebar": "Contents",
   "toc_cell": true,
   "toc_position": {},
   "toc_section_display": true,
   "toc_window_display": false
  },
  "varInspector": {
   "cols": {
    "lenName": 16,
    "lenType": 16,
    "lenVar": 40
   },
   "kernels_config": {
    "python": {
     "delete_cmd_postfix": "",
     "delete_cmd_prefix": "del ",
     "library": "var_list.py",
     "varRefreshCmd": "print(var_dic_list())"
    },
    "r": {
     "delete_cmd_postfix": ") ",
     "delete_cmd_prefix": "rm(",
     "library": "var_list.r",
     "varRefreshCmd": "cat(var_dic_list()) "
    }
   },
   "types_to_exclude": [
    "module",
    "function",
    "builtin_function_or_method",
    "instance",
    "_Feature"
   ],
   "window_display": false
  },
  "vscode": {
   "interpreter": {
    "hash": "aee8b7b246df8f9039afb4144a1f6fd8d2ca17a180786b69acc140d282b71a49"
   }
  }
 },
 "nbformat": 4,
 "nbformat_minor": 2
}
